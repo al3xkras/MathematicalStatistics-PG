{
 "cells": [
  {
   "cell_type": "code",
   "execution_count": 1,
   "id": "6775d8c6",
   "metadata": {},
   "outputs": [],
   "source": [
    "import numpy as np\n",
    "import pandas as pd"
   ]
  },
  {
   "cell_type": "code",
   "execution_count": 15,
   "id": "a690aad8",
   "metadata": {},
   "outputs": [],
   "source": [
    "df = pd.read_excel(\"Dane.xlsx\",\"DANE2\")"
   ]
  },
  {
   "cell_type": "code",
   "execution_count": 16,
   "id": "f9ad66b2",
   "metadata": {},
   "outputs": [
    {
     "name": "stdout",
     "output_type": "stream",
     "text": [
      "<class 'pandas.core.frame.DataFrame'>\n",
      "RangeIndex: 40 entries, 0 to 39\n",
      "Data columns (total 16 columns):\n",
      " #   Column           Non-Null Count  Dtype  \n",
      "---  ------           --------------  -----  \n",
      " 0   PŁACA            40 non-null     int64  \n",
      " 1   PREMIA           40 non-null     int64  \n",
      " 2   PREFIX           40 non-null     object \n",
      " 3   SAMPLE1          40 non-null     int64  \n",
      " 4   SAMPLE2          40 non-null     int64  \n",
      " 5   PŁEĆ             40 non-null     object \n",
      " 6   WYKSZT           40 non-null     object \n",
      " 7   ZAPOTRZEBOWANIE  40 non-null     object \n",
      " 8   WSKAŹNIK1        40 non-null     float64\n",
      " 9   WSKAŹNIK2        40 non-null     float64\n",
      " 10  STAŻ             40 non-null     int64  \n",
      " 11  BRAKI1           19 non-null     float64\n",
      " 12  BRAKI2           21 non-null     float64\n",
      " 13  PUNKTY1          40 non-null     int64  \n",
      " 14  PUNKTY2          40 non-null     int64  \n",
      " 15  WIEK             40 non-null     int64  \n",
      "dtypes: float64(4), int64(8), object(4)\n",
      "memory usage: 5.1+ KB\n"
     ]
    }
   ],
   "source": [
    "df.info()"
   ]
  },
  {
   "cell_type": "code",
   "execution_count": 17,
   "id": "4daf5cca",
   "metadata": {},
   "outputs": [
    {
     "data": {
      "text/html": [
       "<div>\n",
       "<style scoped>\n",
       "    .dataframe tbody tr th:only-of-type {\n",
       "        vertical-align: middle;\n",
       "    }\n",
       "\n",
       "    .dataframe tbody tr th {\n",
       "        vertical-align: top;\n",
       "    }\n",
       "\n",
       "    .dataframe thead th {\n",
       "        text-align: right;\n",
       "    }\n",
       "</style>\n",
       "<table border=\"1\" class=\"dataframe\">\n",
       "  <thead>\n",
       "    <tr style=\"text-align: right;\">\n",
       "      <th></th>\n",
       "      <th>PŁACA</th>\n",
       "      <th>PREMIA</th>\n",
       "      <th>PREFIX</th>\n",
       "      <th>SAMPLE1</th>\n",
       "      <th>SAMPLE2</th>\n",
       "      <th>PŁEĆ</th>\n",
       "      <th>WYKSZT</th>\n",
       "      <th>ZAPOTRZEBOWANIE</th>\n",
       "      <th>WSKAŹNIK1</th>\n",
       "      <th>WSKAŹNIK2</th>\n",
       "      <th>STAŻ</th>\n",
       "      <th>BRAKI1</th>\n",
       "      <th>BRAKI2</th>\n",
       "      <th>PUNKTY1</th>\n",
       "      <th>PUNKTY2</th>\n",
       "      <th>WIEK</th>\n",
       "    </tr>\n",
       "  </thead>\n",
       "  <tbody>\n",
       "    <tr>\n",
       "      <th>0</th>\n",
       "      <td>5600</td>\n",
       "      <td>2200</td>\n",
       "      <td>B</td>\n",
       "      <td>14</td>\n",
       "      <td>19</td>\n",
       "      <td>kobieta</td>\n",
       "      <td>średnie</td>\n",
       "      <td>niski</td>\n",
       "      <td>0.020000</td>\n",
       "      <td>0.007857</td>\n",
       "      <td>2</td>\n",
       "      <td>12.0</td>\n",
       "      <td>12.0</td>\n",
       "      <td>504</td>\n",
       "      <td>500</td>\n",
       "      <td>21</td>\n",
       "    </tr>\n",
       "    <tr>\n",
       "      <th>1</th>\n",
       "      <td>5300</td>\n",
       "      <td>4100</td>\n",
       "      <td>B</td>\n",
       "      <td>11</td>\n",
       "      <td>9</td>\n",
       "      <td>kobieta</td>\n",
       "      <td>średnie</td>\n",
       "      <td>sredni</td>\n",
       "      <td>0.018929</td>\n",
       "      <td>0.014643</td>\n",
       "      <td>3</td>\n",
       "      <td>NaN</td>\n",
       "      <td>NaN</td>\n",
       "      <td>472</td>\n",
       "      <td>530</td>\n",
       "      <td>23</td>\n",
       "    </tr>\n",
       "    <tr>\n",
       "      <th>2</th>\n",
       "      <td>4200</td>\n",
       "      <td>4900</td>\n",
       "      <td>B</td>\n",
       "      <td>13</td>\n",
       "      <td>17</td>\n",
       "      <td>kobieta</td>\n",
       "      <td>średnie</td>\n",
       "      <td>niski</td>\n",
       "      <td>0.015000</td>\n",
       "      <td>0.017500</td>\n",
       "      <td>3</td>\n",
       "      <td>11.0</td>\n",
       "      <td>10.0</td>\n",
       "      <td>444</td>\n",
       "      <td>420</td>\n",
       "      <td>24</td>\n",
       "    </tr>\n",
       "    <tr>\n",
       "      <th>3</th>\n",
       "      <td>5800</td>\n",
       "      <td>3200</td>\n",
       "      <td>A</td>\n",
       "      <td>13</td>\n",
       "      <td>10</td>\n",
       "      <td>mężczyzn</td>\n",
       "      <td>średnie</td>\n",
       "      <td>sredni</td>\n",
       "      <td>0.020714</td>\n",
       "      <td>0.011429</td>\n",
       "      <td>4</td>\n",
       "      <td>NaN</td>\n",
       "      <td>7.0</td>\n",
       "      <td>511</td>\n",
       "      <td>450</td>\n",
       "      <td>25</td>\n",
       "    </tr>\n",
       "    <tr>\n",
       "      <th>4</th>\n",
       "      <td>715</td>\n",
       "      <td>90000</td>\n",
       "      <td>B</td>\n",
       "      <td>12</td>\n",
       "      <td>10</td>\n",
       "      <td>mężczyzn</td>\n",
       "      <td>sz_pom</td>\n",
       "      <td>sredni</td>\n",
       "      <td>0.025536</td>\n",
       "      <td>0.032143</td>\n",
       "      <td>4</td>\n",
       "      <td>NaN</td>\n",
       "      <td>NaN</td>\n",
       "      <td>604</td>\n",
       "      <td>690</td>\n",
       "      <td>26</td>\n",
       "    </tr>\n",
       "  </tbody>\n",
       "</table>\n",
       "</div>"
      ],
      "text/plain": [
       "   PŁACA  PREMIA PREFIX  SAMPLE1  SAMPLE2      PŁEĆ   WYKSZT ZAPOTRZEBOWANIE  \\\n",
       "0   5600    2200      B       14       19   kobieta  średnie           niski   \n",
       "1   5300    4100      B       11        9   kobieta  średnie          sredni   \n",
       "2   4200    4900      B       13       17   kobieta  średnie           niski   \n",
       "3   5800    3200      A       13       10  mężczyzn  średnie          sredni   \n",
       "4    715   90000      B       12       10  mężczyzn   sz_pom          sredni   \n",
       "\n",
       "   WSKAŹNIK1  WSKAŹNIK2  STAŻ  BRAKI1  BRAKI2  PUNKTY1  PUNKTY2  WIEK  \n",
       "0   0.020000   0.007857     2    12.0    12.0      504      500    21  \n",
       "1   0.018929   0.014643     3     NaN     NaN      472      530    23  \n",
       "2   0.015000   0.017500     3    11.0    10.0      444      420    24  \n",
       "3   0.020714   0.011429     4     NaN     7.0      511      450    25  \n",
       "4   0.025536   0.032143     4     NaN     NaN      604      690    26  "
      ]
     },
     "execution_count": 17,
     "metadata": {},
     "output_type": "execute_result"
    }
   ],
   "source": [
    "df.head()"
   ]
  },
  {
   "cell_type": "code",
   "execution_count": 18,
   "id": "040255b1",
   "metadata": {},
   "outputs": [
    {
     "data": {
      "text/plain": [
       "{'podst', 'sz_pom', 'wyzsze', 'średnie'}"
      ]
     },
     "execution_count": 18,
     "metadata": {},
     "output_type": "execute_result"
    }
   ],
   "source": [
    "set(df[\"WYKSZT\"].dropna())"
   ]
  },
  {
   "cell_type": "code",
   "execution_count": 19,
   "id": "b8244126",
   "metadata": {},
   "outputs": [
    {
     "data": {
      "text/plain": [
       "{'niski', 'sredni', 'wysoki'}"
      ]
     },
     "execution_count": 19,
     "metadata": {},
     "output_type": "execute_result"
    }
   ],
   "source": [
    "set(df[\"ZAPOTRZEBOWANIE\"].dropna())"
   ]
  },
  {
   "cell_type": "code",
   "execution_count": 21,
   "id": "4cc6bf8e",
   "metadata": {},
   "outputs": [
    {
     "data": {
      "text/plain": [
       "{'A', 'B'}"
      ]
     },
     "execution_count": 21,
     "metadata": {},
     "output_type": "execute_result"
    }
   ],
   "source": [
    "set(df[\"PREFIX\"].dropna())"
   ]
  },
  {
   "cell_type": "code",
   "execution_count": 153,
   "id": "b6c841ac",
   "metadata": {},
   "outputs": [],
   "source": [
    "classifiers = [\n",
    "    \"PŁEĆ\",\"WYKSZT\",\"ZAPOTRZEBOWANIE\",\"PREFIX\"\n",
    "]\n",
    "numeric = [\n",
    "    \"WSKAŹNIK1\",\"WSKAŹNIK2\",\"PUNKTY1\",\n",
    "    \"PUNKTY2\",\"WIEK\",\"PŁACA\",\n",
    "    \"PREMIA\"\n",
    "]"
   ]
  },
  {
   "cell_type": "code",
   "execution_count": 154,
   "id": "7843fb53",
   "metadata": {},
   "outputs": [],
   "source": [
    "model = {\n",
    "    \"classifiers\":[classifiers[1]],\n",
    "    \"numeric\":[numeric[6]]\n",
    "}"
   ]
  },
  {
   "cell_type": "code",
   "execution_count": 155,
   "id": "8965d10e",
   "metadata": {},
   "outputs": [
    {
     "data": {
      "text/plain": [
       "array(['średnie', 'sz_pom', 'wyzsze', 'podst'], dtype=object)"
      ]
     },
     "execution_count": 155,
     "metadata": {},
     "output_type": "execute_result"
    }
   ],
   "source": [
    "education = df[model['classifiers'][0]].unique()\n",
    "education"
   ]
  },
  {
   "cell_type": "code",
   "execution_count": 156,
   "id": "7ad42fd8",
   "metadata": {},
   "outputs": [],
   "source": [
    "A = education[0]\n",
    "B = education[2]\n",
    "\n",
    "data = df.loc[[x in [A,B] for x in df[model['classifiers'][0]]]][model['classifiers']+model[\"numeric\"]]"
   ]
  },
  {
   "cell_type": "code",
   "execution_count": 157,
   "id": "030aca4d",
   "metadata": {},
   "outputs": [
    {
     "data": {
      "image/png": "[encoded data removed]",
      "text/plain": [
       "<Figure size 640x480 with 1 Axes>"
      ]
     },
     "metadata": {},
     "output_type": "display_data"
    }
   ],
   "source": [
    "import matplotlib.pyplot as plt\n",
    "\n",
    "X = df[model['numeric'][0]]\n",
    "plt.hist(X, density = True, bins=70)\n",
    "plt.title(\"Empirical PDF of column \"+model['numeric'][0])\n",
    "plt.show()"
   ]
  },
  {
   "cell_type": "code",
   "execution_count": 158,
   "id": "e99acd36",
   "metadata": {},
   "outputs": [
    {
     "data": {
      "text/html": [
       "<div>\n",
       "<style scoped>\n",
       "    .dataframe tbody tr th:only-of-type {\n",
       "        vertical-align: middle;\n",
       "    }\n",
       "\n",
       "    .dataframe tbody tr th {\n",
       "        vertical-align: top;\n",
       "    }\n",
       "\n",
       "    .dataframe thead th {\n",
       "        text-align: right;\n",
       "    }\n",
       "</style>\n",
       "<table border=\"1\" class=\"dataframe\">\n",
       "  <thead>\n",
       "    <tr style=\"text-align: right;\">\n",
       "      <th></th>\n",
       "      <th>WYKSZT</th>\n",
       "      <th>PREMIA</th>\n",
       "    </tr>\n",
       "  </thead>\n",
       "  <tbody>\n",
       "    <tr>\n",
       "      <th>0</th>\n",
       "      <td>średnie</td>\n",
       "      <td>2200</td>\n",
       "    </tr>\n",
       "    <tr>\n",
       "      <th>1</th>\n",
       "      <td>średnie</td>\n",
       "      <td>4100</td>\n",
       "    </tr>\n",
       "    <tr>\n",
       "      <th>2</th>\n",
       "      <td>średnie</td>\n",
       "      <td>4900</td>\n",
       "    </tr>\n",
       "    <tr>\n",
       "      <th>3</th>\n",
       "      <td>średnie</td>\n",
       "      <td>3200</td>\n",
       "    </tr>\n",
       "    <tr>\n",
       "      <th>5</th>\n",
       "      <td>średnie</td>\n",
       "      <td>8100</td>\n",
       "    </tr>\n",
       "  </tbody>\n",
       "</table>\n",
       "</div>"
      ],
      "text/plain": [
       "    WYKSZT  PREMIA\n",
       "0  średnie    2200\n",
       "1  średnie    4100\n",
       "2  średnie    4900\n",
       "3  średnie    3200\n",
       "5  średnie    8100"
      ]
     },
     "execution_count": 158,
     "metadata": {},
     "output_type": "execute_result"
    }
   ],
   "source": [
    "data.head()"
   ]
  },
  {
   "cell_type": "code",
   "execution_count": 159,
   "id": "68e8616b",
   "metadata": {},
   "outputs": [
    {
     "name": "stderr",
     "output_type": "stream",
     "text": [
      "C:\\Users\\alexkras\\AppData\\Local\\Temp\\ipykernel_22060\\949352208.py:8: FutureWarning: The series.append method is deprecated and will be removed from pandas in a future version. Use pandas.concat instead.\n",
      "  model['numeric'][0]:d1.append(d2)\n"
     ]
    }
   ],
   "source": [
    "minshape = data.loc[data[model['classifiers'][0]]==A].shape[0]\n",
    "minshape = min(minshape,data.loc[data[model['classifiers'][0]]==B].shape[0])\n",
    "\n",
    "d1 = data.loc[data[model['classifiers'][0]]==A][model['numeric'][0]][:minshape]\n",
    "d2 = data.loc[data[model['classifiers'][0]]==B][model['numeric'][0]][:minshape]\n",
    "data = pd.DataFrame({\n",
    "    model['classifiers'][0]:[A]*len(d1)+[B]*len(d2),\n",
    "    model['numeric'][0]:d1.append(d2)\n",
    "})"
   ]
  },
  {
   "cell_type": "code",
   "execution_count": 160,
   "id": "ec0bb3f2",
   "metadata": {},
   "outputs": [
    {
     "data": {
      "text/html": [
       "<div>\n",
       "<style scoped>\n",
       "    .dataframe tbody tr th:only-of-type {\n",
       "        vertical-align: middle;\n",
       "    }\n",
       "\n",
       "    .dataframe tbody tr th {\n",
       "        vertical-align: top;\n",
       "    }\n",
       "\n",
       "    .dataframe thead th {\n",
       "        text-align: right;\n",
       "    }\n",
       "</style>\n",
       "<table border=\"1\" class=\"dataframe\">\n",
       "  <thead>\n",
       "    <tr style=\"text-align: right;\">\n",
       "      <th></th>\n",
       "      <th>WYKSZT</th>\n",
       "      <th>PREMIA</th>\n",
       "    </tr>\n",
       "  </thead>\n",
       "  <tbody>\n",
       "    <tr>\n",
       "      <th>0</th>\n",
       "      <td>średnie</td>\n",
       "      <td>2200</td>\n",
       "    </tr>\n",
       "    <tr>\n",
       "      <th>1</th>\n",
       "      <td>średnie</td>\n",
       "      <td>4100</td>\n",
       "    </tr>\n",
       "    <tr>\n",
       "      <th>2</th>\n",
       "      <td>średnie</td>\n",
       "      <td>4900</td>\n",
       "    </tr>\n",
       "    <tr>\n",
       "      <th>3</th>\n",
       "      <td>średnie</td>\n",
       "      <td>3200</td>\n",
       "    </tr>\n",
       "    <tr>\n",
       "      <th>5</th>\n",
       "      <td>średnie</td>\n",
       "      <td>8100</td>\n",
       "    </tr>\n",
       "  </tbody>\n",
       "</table>\n",
       "</div>"
      ],
      "text/plain": [
       "    WYKSZT  PREMIA\n",
       "0  średnie    2200\n",
       "1  średnie    4100\n",
       "2  średnie    4900\n",
       "3  średnie    3200\n",
       "5  średnie    8100"
      ]
     },
     "execution_count": 160,
     "metadata": {},
     "output_type": "execute_result"
    }
   ],
   "source": [
    "data.head()"
   ]
  },
  {
   "cell_type": "code",
   "execution_count": 161,
   "id": "eb99634a",
   "metadata": {},
   "outputs": [
    {
     "name": "stdout",
     "output_type": "stream",
     "text": [
      "\n",
      "Two sample t-test with equal variance\n",
      "\n",
      "------------------  -------------\n",
      "Mean diff            11207.7\n",
      "t                        0.916883\n",
      "Std Error            12223.7\n",
      "df                      20\n",
      "p value (one-tail)       0.185064\n",
      "p value (two-tail)       0.370128\n",
      "Lower 95.0%         -14290.5\n",
      "Upper 95.0%          36706\n",
      "------------------  -------------\n",
      "\n",
      "Parameter estimates\n",
      "\n",
      "Level      Number     Mean    Std Dev    Std Error    Lower 95.0%    Upper 95.0%\n",
      "-------  --------  -------  ---------  -----------  -------------  -------------\n",
      "wyzsze         11  22418.2    33459.6     10088.4        -60.2713        44896.6\n",
      "średnie        11  11210.5    22892.6      6902.37     -4168.98          26589.9\n",
      "\n"
     ]
    }
   ],
   "source": [
    "from bioinfokit.analys import stat\n",
    "\n",
    "res = stat()\n",
    "res.ttest(df=data, xfac=model['classifiers'][0], \\\n",
    "          res=model['numeric'][0], \\\n",
    "          test_type=2)\n",
    "print(res.summary)"
   ]
  },
  {
   "cell_type": "code",
   "execution_count": 163,
   "id": "64b6c24f",
   "metadata": {
    "scrolled": true
   },
   "outputs": [
    {
     "data": {
      "text/plain": [
       "(0.9168833121659851, 0.37012833493770414)"
      ]
     },
     "execution_count": 163,
     "metadata": {},
     "output_type": "execute_result"
    }
   ],
   "source": [
    "t, p = res.result[1], res.result[3]\n",
    "t, p"
   ]
  },
  {
   "cell_type": "markdown",
   "id": "93dcc59c",
   "metadata": {},
   "source": [
    "H0: Group B mean is == Group A mean<br>\n",
    "Alternative: Group B mean is > Group A mean"
   ]
  },
  {
   "cell_type": "markdown",
   "id": "7cffb538",
   "metadata": {},
   "source": [
    "The p-value p is >0.05 => Alternative hypothesis has place"
   ]
  },
  {
   "cell_type": "code",
   "execution_count": null,
   "id": "f2c57662",
   "metadata": {},
   "outputs": [],
   "source": []
  }
 ],
 "metadata": {
  "kernelspec": {
   "display_name": "Python 3 (ipykernel)",
   "language": "python",
   "name": "python3"
  },
  "language_info": {
   "codemirror_mode": {
    "name": "ipython",
    "version": 3
   },
   "file_extension": ".py",
   "mimetype": "text/x-python",
   "name": "python",
   "nbconvert_exporter": "python",
   "pygments_lexer": "ipython3",
   "version": "3.10.7"
  }
 },
 "nbformat": 4,
 "nbformat_minor": 5
}
