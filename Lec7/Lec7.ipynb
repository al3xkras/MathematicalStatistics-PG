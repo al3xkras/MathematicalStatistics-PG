{
 "cells": [
  {
   "cell_type": "code",
   "execution_count": 1,
   "id": "c5728459",
   "metadata": {},
   "outputs": [],
   "source": [
    "import numpy as np"
   ]
  },
  {
   "cell_type": "code",
   "execution_count": 2,
   "id": "cd31f8ca",
   "metadata": {},
   "outputs": [],
   "source": [
    "from scipy.stats import norm\n",
    "\n",
    "mu = 175\n",
    "sigma = 5"
   ]
  },
  {
   "cell_type": "markdown",
   "id": "2d72527f",
   "metadata": {},
   "source": [
    "$\\textit{Norm}(\\mu,\\sigma)$"
   ]
  },
  {
   "cell_type": "code",
   "execution_count": 3,
   "id": "22ae0d8b",
   "metadata": {},
   "outputs": [
    {
     "data": {
      "text/plain": [
       "168.592242172277"
      ]
     },
     "execution_count": 3,
     "metadata": {},
     "output_type": "execute_result"
    }
   ],
   "source": [
    "norm.ppf(0.1,loc=mu,scale=sigma)"
   ]
  },
  {
   "cell_type": "markdown",
   "id": "855836cf",
   "metadata": {},
   "source": [
    "$P(170 \\le x \\le 190) = \\int_{170}^{190}{\\rho(x)dx}$ where $\\rho(x) = \\text{Norm PDF}$"
   ]
  },
  {
   "cell_type": "code",
   "execution_count": 4,
   "id": "d75f4cb3",
   "metadata": {},
   "outputs": [
    {
     "name": "stdout",
     "output_type": "stream",
     "text": [
      "a) 0.8399948480369128\n"
     ]
    }
   ],
   "source": [
    "p170 = norm.cdf(170,loc=mu,scale=sigma)\n",
    "p190 = norm.cdf(190,loc=mu,scale=sigma)\n",
    "print(\"a)\",p190-p170)"
   ]
  },
  {
   "cell_type": "code",
   "execution_count": 5,
   "id": "51383650",
   "metadata": {},
   "outputs": [
    {
     "name": "stdout",
     "output_type": "stream",
     "text": [
      "b) 0.0013498980316300933\n"
     ]
    }
   ],
   "source": [
    "p160 = norm.cdf(160,loc=mu,scale=sigma)\n",
    "print(\"b)\",p160)"
   ]
  },
  {
   "cell_type": "markdown",
   "id": "c9d72c47",
   "metadata": {},
   "source": [
    "Task 2"
   ]
  },
  {
   "cell_type": "markdown",
   "id": "1163772f",
   "metadata": {},
   "source": [
    "$\\text{X is a normally distributed distributed random variable}\\newline\n",
    "\\text{eval.: } P(|X - \\mu| \\gt 3\\sigma)$"
   ]
  },
  {
   "cell_type": "markdown",
   "id": "f2005762",
   "metadata": {},
   "source": [
    "$$P(|X - \\mu| \\gt 3\\sigma) = 1- F(3\\sigma + \\mu) + F(-3\\sigma + \\mu)$$"
   ]
  },
  {
   "cell_type": "code",
   "execution_count": 6,
   "id": "aa422a53",
   "metadata": {
    "scrolled": true
   },
   "outputs": [
    {
     "data": {
      "text/plain": [
       "0.0026997960632601965"
      ]
     },
     "execution_count": 6,
     "metadata": {},
     "output_type": "execute_result"
    }
   ],
   "source": [
    "1 - norm.cdf(3*sigma+mu,loc=mu,scale=sigma) + norm.cdf(-3*sigma+mu,loc=mu,scale=sigma)"
   ]
  },
  {
   "cell_type": "markdown",
   "id": "755c7e3d",
   "metadata": {},
   "source": [
    "$$\\text{Chebyshev ineq.: } P(|X - \\mu| \\leq 3\\sigma ) \\leq \\frac{1}{k^2}, k = 3$$"
   ]
  },
  {
   "cell_type": "code",
   "execution_count": 7,
   "id": "d768a59f",
   "metadata": {},
   "outputs": [
    {
     "data": {
      "text/latex": [
       "$\\displaystyle \\frac{\\sqrt{2} e^{- 0.5 x^{2}}}{2 \\sqrt{\\pi}}$"
      ],
      "text/plain": [
       "sqrt(2)*exp(-0.5*x**2)/(2*sqrt(pi))"
      ]
     },
     "execution_count": 7,
     "metadata": {},
     "output_type": "execute_result"
    }
   ],
   "source": [
    "import sympy as sp\n",
    "\n",
    "mu,sigma = sp.symbols(\"mu,sigma\")\n",
    "x = sp.symbols(\"x\")\n",
    "eq = 1/(sigma*sp.sqrt(2*sp.pi)) * sp.exp(-0.5 * ((x-mu)/sigma)**2)\n",
    "m = 0\n",
    "s = 1\n",
    "eq = eq.subs(sigma,s).subs(mu,m)\n",
    "eq"
   ]
  },
  {
   "cell_type": "code",
   "execution_count": 8,
   "id": "b0d6698c",
   "metadata": {
    "scrolled": true
   },
   "outputs": [
    {
     "data": {
      "text/latex": [
       "$\\displaystyle 0.00269979606326032$"
      ],
      "text/plain": [
       "0.00269979606326032"
      ]
     },
     "execution_count": 8,
     "metadata": {},
     "output_type": "execute_result"
    }
   ],
   "source": [
    "integ = sp.integrate(eq,(x,-3,3))\n",
    "1 - integ.evalf()"
   ]
  },
  {
   "cell_type": "markdown",
   "id": "ab80db43",
   "metadata": {},
   "source": [
    "n = 100\n",
    "6 <= M <= 13\n",
    "p = 1/10\n",
    "N = 1000\n",
    "100"
   ]
  },
  {
   "cell_type": "code",
   "execution_count": null,
   "id": "54a707aa",
   "metadata": {},
   "outputs": [],
   "source": []
  }
 ],
 "metadata": {
  "kernelspec": {
   "display_name": "Python 3 (ipykernel)",
   "language": "python",
   "name": "python3"
  },
  "language_info": {
   "codemirror_mode": {
    "name": "ipython",
    "version": 3
   },
   "file_extension": ".py",
   "mimetype": "text/x-python",
   "name": "python",
   "nbconvert_exporter": "python",
   "pygments_lexer": "ipython3",
   "version": "3.10.7"
  }
 },
 "nbformat": 4,
 "nbformat_minor": 5
}
