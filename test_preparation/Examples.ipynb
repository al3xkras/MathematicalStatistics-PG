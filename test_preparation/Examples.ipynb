{
 "cells": [
  {
   "cell_type": "code",
   "execution_count": 3,
   "id": "d92b092f",
   "metadata": {},
   "outputs": [],
   "source": [
    "import sympy as sp\n",
    "import numpy as np\n",
    "from scipy.stats import norm,chi2\n",
    "from IPython.display import display\n",
    "from math import sqrt"
   ]
  },
  {
   "cell_type": "markdown",
   "id": "532eae84",
   "metadata": {},
   "source": [
    "![](./img/task2_8.png)"
   ]
  },
  {
   "cell_type": "code",
   "execution_count": 2,
   "id": "1a94175a",
   "metadata": {},
   "outputs": [
    {
     "data": {
      "text/latex": [
       "$\\displaystyle \\mu$"
      ],
      "text/plain": [
       "\\mu"
      ]
     },
     "metadata": {},
     "output_type": "display_data"
    },
    {
     "data": {
      "text/latex": [
       "$\\displaystyle \\sigma$"
      ],
      "text/plain": [
       "\\sigma"
      ]
     },
     "metadata": {},
     "output_type": "display_data"
    },
    {
     "name": "stdout",
     "output_type": "stream",
     "text": [
      "31.00145157891804\n",
      "30.9967740256950\n",
      "P( 327.775 <= avg(X) <= 360.025) = 0.95\n"
     ]
    },
    {
     "data": {
      "text/plain": [
       "(327.774644939424, 360.025355060576)"
      ]
     },
     "execution_count": 2,
     "metadata": {},
     "output_type": "execute_result"
    }
   ],
   "source": [
    "def task2_8():\n",
    "    samp=np.array([382,284,339,340,305,386,378,335,344,346],dtype=int)\n",
    "    mu,sigma=sp.symbols(\"\\mu,\\sigma\")\n",
    "    N=norm\n",
    "    display(mu,sigma)\n",
    "    alpha=0.05 #confidence level\n",
    "    def avg(X):\n",
    "        return X.mean()\n",
    "    #task: find 95% confidence intervals of avg(X)\n",
    "    #avg(X) ~ N(mu, sigma/sqrt(n)) (CLT, central limit theorem)\n",
    "    # Let U ~ (avg(X) - mu) / (sigma/sqrt(n))\n",
    "    # => let u1,u2: P(u1<U<u2)=1-alpha=0.95\n",
    "    # U ~ N(0,1) => we can find u1 and u2 as follows:\n",
    "    # u1 = norm.ppf(alpha=0.05), u2 = norm.ppf(1-alpha=0.95)\n",
    "    # => P(mu + sigma*u1/sqrt(n) < avg(X) < mu + sigma*u2/sqrt(n)) = 1-alpha = 0.95\n",
    "    u1=norm.ppf(alpha,loc=0,scale=1)\n",
    "    u2=norm.ppf(1-alpha,loc=0,scale=1)\n",
    "    avg_min=mu+sigma*u1/sp.sqrt(len(samp))\n",
    "    avg_max=mu+sigma*u2/sp.sqrt(len(samp))\n",
    "    mu_val=samp.mean()\n",
    "    sigma_val=samp.std()\n",
    "    print(sigma_val)\n",
    "    #std by definition\n",
    "    print(sp.sqrt(np.array([(x-mu_val)**2 for x in samp],dtype=int).mean()))\n",
    "    t1,t2=[x.subs(mu,mu_val).subs(sigma,sigma_val).evalf() for x in [avg_min,avg_max]]\n",
    "    print(\"P( %.3f <= avg(X) <= %.3f) = %.2f\"%(t1,t2,1-alpha))\n",
    "    return t1,t2\n",
    "task2_8()\n"
   ]
  },
  {
   "cell_type": "markdown",
   "id": "9a906a6d",
   "metadata": {},
   "source": [
    "![](./img/task2_11.png)"
   ]
  },
  {
   "cell_type": "code",
   "execution_count": 5,
   "id": "231b71ee",
   "metadata": {},
   "outputs": [],
   "source": [
    "def unused():\n",
    "    samp=np.array([87,102,119,81,97,93,100,114,99,100,113,93,95,85,123,99],dtype=int)\n",
    "    mu,sigma=sp.symbols(\"\\mu,\\sigma\")\n",
    "    N=norm\n",
    "    #display(mu,sigma)\n",
    "    alpha=0.1 #confidence level\n",
    "    #task: find 90% confidence intervals of mu,sigma\n",
    "    # mu = EX, sigma = DX\n",
    "    # EX and DX pdf: accoring to the LOTUS\n",
    "    # after this it is possible to find confidence intervals\n",
    "    # using methods from the task 2.8\n",
    "    x = sp.symbols(\"x\")\n",
    "    norm_pdf = (sigma*sp.sqrt(2*sp.pi))**-1 * sp.exp(((x-mu)/sigma)**2 / -2)\n",
    "    \n",
    "    k=sp.symbols(\"k\")\n",
    "    mu_pdf = x * norm_pdf\n",
    "    sigma_pdf = x**2 * norm_pdf\n",
    "    \n",
    "    mu_val=samp.mean()\n",
    "    sigma_val=samp.std()\n",
    "    \n",
    "    def integ(pdf):\n",
    "        nonlocal x,k,mu,sigma,mu_val,sigma_val\n",
    "        return sp.integrate(pdf.subs(mu,mu_val).subs(sigma,sigma_val),(x,-np.inf,k))\n",
    "    \n",
    "    sols_musigma=[(sp.nsolve(integ(val[0])-alpha,k,val[1]),sp.nsolve(integ(val[0])-1+alpha,k,val[1])) for \n",
    "                 val in [(mu_pdf,mu_val),(sigma_pdf,mu_val)]]\n",
    "    \n",
    "    mu_interval,sg_interval=sols_musigma\n",
    "    print(\"90% confidence interval for mu:\",mu_interval)\n",
    "    print(\"90% confidence interval for sigma:\",sg_interval)\n",
    "    return mu_interval,sg_interval"
   ]
  },
  {
   "cell_type": "code",
   "execution_count": 14,
   "id": "1392408c",
   "metadata": {},
   "outputs": [
    {
     "name": "stdout",
     "output_type": "stream",
     "text": [
      "90% confidence interval for std = 2: (85.93447088459678, 295.8293055830377)\n",
      "90% confidence interval for sigma = s**2: (9.270084729094808, 17.199689112976365)\n"
     ]
    }
   ],
   "source": [
    "def task2_11():\n",
    "    samp=np.array([87,102,119,81,97,93,100,114,99,100,113,93,95,85,123,99],dtype=int)\n",
    "    # chi^2 with len(samp)-1 degreed of freedom - sum of squared of iid normal rv\n",
    "    alpha=0.1\n",
    "    degree=len(samp)-1\n",
    "    s_min,s_max=chi2.ppf(alpha/2,degree),chi2.ppf(1-alpha/2,degree)\n",
    "    s_val=samp.std()**2\n",
    "    s2_min,s2_max=len(samp)*s_val/s_max,len(samp)*s_val/s_min\n",
    "    s_min,s_max=sqrt(s2_min),sqrt(s2_max)\n",
    "    \n",
    "    print(\"90% confidence interval for std = 2:\",(s2_min,s2_max))\n",
    "    print(\"90% confidence interval for sigma = s**2:\",(s_min,s_max))\n",
    "    \n",
    "task2_11()"
   ]
  },
  {
   "cell_type": "markdown",
   "id": "29d0d16d",
   "metadata": {},
   "source": [
    "![](./img/task2.12.png)"
   ]
  },
  {
   "cell_type": "code",
   "execution_count": 10,
   "id": "cdaef4bd",
   "metadata": {},
   "outputs": [
    {
     "name": "stdout",
     "output_type": "stream",
     "text": [
      "95% confidence interval for sigma: (0.019654311677854395, 0.038427018480156575)\n"
     ]
    }
   ],
   "source": [
    "def task2_12():\n",
    "    n=50\n",
    "    s2=0.00068\n",
    "    s=sqrt(s2)\n",
    "    # X ~ N(mu,sigma)\n",
    "    alpha=0.05\n",
    "    # confidence interval for sigma - ?\n",
    "    s_min,s_max=chi2.ppf(alpha,n-1),chi2.ppf(1-alpha,n-1)\n",
    "    s_min,s_max=n*s/s_max,n*s/s_min\n",
    "    print(\"%d%% confidence interval for sigma: %s\"%((1-alpha)*100,(s_min,s_max)))\n",
    "task2_12()"
   ]
  },
  {
   "cell_type": "markdown",
   "id": "77e7e377",
   "metadata": {},
   "source": [
    "![](./img/task2.13.png)"
   ]
  },
  {
   "cell_type": "code",
   "execution_count": 11,
   "id": "238b6238",
   "metadata": {},
   "outputs": [],
   "source": [
    "def task2_13():\n",
    "    #Hypergeometric distribution\n",
    "    K=2\n",
    "    n=20\n",
    "    #N - ?\n",
    "    # confidence interval for K/N  -  ?\n",
    "    \n",
    "    # mean: n*K/N\n",
    "    # => K/N ~ EX/n\n",
    "    \n",
    "    #ask on the next lecture\n",
    "    pass"
   ]
  },
  {
   "cell_type": "code",
   "execution_count": null,
   "id": "51499688",
   "metadata": {},
   "outputs": [],
   "source": [
    "def task2_42():\n",
    "    pass"
   ]
  }
 ],
 "metadata": {
  "kernelspec": {
   "display_name": "Python 3 (ipykernel)",
   "language": "python",
   "name": "python3"
  },
  "language_info": {
   "codemirror_mode": {
    "name": "ipython",
    "version": 3
   },
   "file_extension": ".py",
   "mimetype": "text/x-python",
   "name": "python",
   "nbconvert_exporter": "python",
   "pygments_lexer": "ipython3",
   "version": "3.10.7"
  }
 },
 "nbformat": 4,
 "nbformat_minor": 5
}
