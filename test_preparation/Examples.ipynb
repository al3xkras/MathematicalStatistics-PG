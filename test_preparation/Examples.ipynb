{
 "cells": [
  {
   "cell_type": "code",
   "execution_count": 44,
   "id": "d92b092f",
   "metadata": {},
   "outputs": [],
   "source": [
    "import sympy as sp\n",
    "import numpy as np\n",
    "from scipy.stats import norm,chi2,binom\n",
    "from scipy.stats import t as tStudent\n",
    "from scipy.stats import f as fSnedecor\n",
    "from IPython.display import display\n",
    "from math import sqrt,pi"
   ]
  },
  {
   "cell_type": "markdown",
   "id": "532eae84",
   "metadata": {},
   "source": [
    "![](./img/task2_8.png)"
   ]
  },
  {
   "cell_type": "code",
   "execution_count": 8,
   "id": "1a94175a",
   "metadata": {},
   "outputs": [
    {
     "data": {
      "text/latex": [
       "$\\displaystyle \\mu$"
      ],
      "text/plain": [
       "\\mu"
      ]
     },
     "metadata": {},
     "output_type": "display_data"
    },
    {
     "data": {
      "text/latex": [
       "$\\displaystyle \\sigma$"
      ],
      "text/plain": [
       "\\sigma"
      ]
     },
     "metadata": {},
     "output_type": "display_data"
    },
    {
     "name": "stdout",
     "output_type": "stream",
     "text": [
      "31.00145157891804\n",
      "30.9967740256950\n",
      "P( 327.775 <= avg(X) <= 360.025) = 0.95\n"
     ]
    },
    {
     "data": {
      "text/plain": [
       "(327.774644939424, 360.025355060576)"
      ]
     },
     "execution_count": 8,
     "metadata": {},
     "output_type": "execute_result"
    }
   ],
   "source": [
    "def task2_8():\n",
    "    samp=np.array([382,284,339,340,305,386,378,335,344,346],dtype=int)\n",
    "    mu,sigma=sp.symbols(\"\\mu,\\sigma\")\n",
    "    N=norm\n",
    "    display(mu,sigma)\n",
    "    alpha=0.05 #confidence level\n",
    "    def avg(X):\n",
    "        return X.mean()\n",
    "    #task: find 95% confidence intervals of avg(X)\n",
    "    #avg(X) ~ N(mu, sigma/sqrt(n)) (CLT, central limit theorem)\n",
    "    # Let U ~ (avg(X) - mu) / (sigma/sqrt(n))\n",
    "    # => let u1,u2: P(u1<U<u2)=1-alpha=0.95\n",
    "    # U ~ N(0,1) => we can find u1 and u2 as follows:\n",
    "    # u1 = norm.ppf(alpha=0.05), u2 = norm.ppf(1-alpha=0.95)\n",
    "    # => P(mu + sigma*u1/sqrt(n) < avg(X) < mu + sigma*u2/sqrt(n)) = 1-alpha = 0.95\n",
    "    u1=norm.ppf(alpha,loc=0,scale=1)\n",
    "    u2=norm.ppf(1-alpha,loc=0,scale=1)\n",
    "    avg_min=mu+sigma*u1/sp.sqrt(len(samp))\n",
    "    avg_max=mu+sigma*u2/sp.sqrt(len(samp))\n",
    "    mu_val=samp.mean()\n",
    "    sigma_val=samp.std()\n",
    "    print(sigma_val)\n",
    "    #std by definition\n",
    "    print(sp.sqrt(np.array([(x-mu_val)**2 for x in samp],dtype=int).mean()))\n",
    "    t1,t2=[x.subs(mu,mu_val).subs(sigma,sigma_val).evalf() for x in [avg_min,avg_max]]\n",
    "    print(\"P( %.3f <= avg(X) <= %.3f) = %.2f\"%(t1,t2,1-alpha))\n",
    "    return t1,t2\n",
    "task2_8()\n"
   ]
  },
  {
   "cell_type": "markdown",
   "id": "9a906a6d",
   "metadata": {},
   "source": [
    "![](./img/task2_11.png)"
   ]
  },
  {
   "cell_type": "code",
   "execution_count": 9,
   "id": "231b71ee",
   "metadata": {},
   "outputs": [],
   "source": [
    "def unused():\n",
    "    samp=np.array([87,102,119,81,97,93,100,114,99,100,113,93,95,85,123,99],dtype=int)\n",
    "    mu,sigma=sp.symbols(\"\\mu,\\sigma\")\n",
    "    N=norm\n",
    "    #display(mu,sigma)\n",
    "    alpha=0.1 #confidence level\n",
    "    #task: find 90% confidence intervals of mu,sigma\n",
    "    # mu = EX, sigma = DX\n",
    "    # EX and DX pdf: accoring to the LOTUS\n",
    "    # after this it is possible to find confidence intervals\n",
    "    # using methods from the task 2.8\n",
    "    x = sp.symbols(\"x\")\n",
    "    norm_pdf = (sigma*sp.sqrt(2*sp.pi))**-1 * sp.exp(((x-mu)/sigma)**2 / -2)\n",
    "    \n",
    "    k=sp.symbols(\"k\")\n",
    "    mu_pdf = x * norm_pdf\n",
    "    sigma_pdf = x**2 * norm_pdf\n",
    "    \n",
    "    mu_val=samp.mean()\n",
    "    sigma_val=samp.std()\n",
    "    \n",
    "    def integ(pdf):\n",
    "        nonlocal x,k,mu,sigma,mu_val,sigma_val\n",
    "        return sp.integrate(pdf.subs(mu,mu_val).subs(sigma,sigma_val),(x,-np.inf,k))\n",
    "    \n",
    "    sols_musigma=[(sp.nsolve(integ(val[0])-alpha,k,val[1]),sp.nsolve(integ(val[0])-1+alpha,k,val[1])) for \n",
    "                 val in [(mu_pdf,mu_val),(sigma_pdf,mu_val)]]\n",
    "    \n",
    "    mu_interval,sg_interval=sols_musigma\n",
    "    print(\"90% confidence interval for mu:\",mu_interval)\n",
    "    print(\"90% confidence interval for sigma:\",sg_interval)\n",
    "    return mu_interval,sg_interval"
   ]
  },
  {
   "cell_type": "code",
   "execution_count": 10,
   "id": "1392408c",
   "metadata": {},
   "outputs": [
    {
     "name": "stdout",
     "output_type": "stream",
     "text": [
      "90% confidence interval for std = 2: (85.93447088459678, 295.8293055830377)\n",
      "90% confidence interval for sigma = s**2: (9.270084729094808, 17.199689112976365)\n"
     ]
    }
   ],
   "source": [
    "def task2_11():\n",
    "    samp=np.array([87,102,119,81,97,93,100,114,99,100,113,93,95,85,123,99],dtype=int)\n",
    "    # chi^2 with len(samp)-1 degreed of freedom - sum of squared of iid normal rv\n",
    "    alpha=0.1\n",
    "    degree=len(samp)-1\n",
    "    s_min,s_max=chi2.ppf(alpha/2,degree),chi2.ppf(1-alpha/2,degree)\n",
    "    s_val=samp.std()**2\n",
    "    s2_min,s2_max=len(samp)*s_val/s_max,len(samp)*s_val/s_min\n",
    "    s_min,s_max=sqrt(s2_min),sqrt(s2_max)\n",
    "    \n",
    "    print(\"90% confidence interval for std = 2:\",(s2_min,s2_max))\n",
    "    print(\"90% confidence interval for sigma = s**2:\",(s_min,s_max))\n",
    "    \n",
    "task2_11()"
   ]
  },
  {
   "cell_type": "markdown",
   "id": "6cb533a9",
   "metadata": {},
   "source": [
    "![](./img/task2.12.png)"
   ]
  },
  {
   "cell_type": "code",
   "execution_count": 11,
   "id": "f339a133",
   "metadata": {},
   "outputs": [
    {
     "name": "stdout",
     "output_type": "stream",
     "text": [
      "95% confidence interval for sigma: (0.019654311677854395, 0.038427018480156575)\n"
     ]
    }
   ],
   "source": [
    "def task2_12():\n",
    "    n=50\n",
    "    s2=0.00068\n",
    "    s=sqrt(s2)\n",
    "    # X ~ N(mu,sigma)\n",
    "    alpha=0.05\n",
    "    # confidence interval for sigma - ?\n",
    "    s_min,s_max=chi2.ppf(alpha,n-1),chi2.ppf(1-alpha,n-1)\n",
    "    s_min,s_max=n*s/s_max,n*s/s_min\n",
    "    print(\"%d%% confidence interval for sigma: %s\"%((1-alpha)*100,(s_min,s_max)))\n",
    "task2_12()"
   ]
  },
  {
   "cell_type": "markdown",
   "id": "76804ce8",
   "metadata": {},
   "source": [
    "![](./img/task2.13.png)"
   ]
  },
  {
   "cell_type": "code",
   "execution_count": 12,
   "id": "1d737ee2",
   "metadata": {},
   "outputs": [],
   "source": [
    "def task2_13():\n",
    "    #Hypergeometric distribution\n",
    "    K=2\n",
    "    n=20\n",
    "    #N - ?\n",
    "    # confidence interval for K/N  -  ?\n",
    "    \n",
    "    # mean: n*K/N\n",
    "    # => K/N ~ EX/n\n",
    "    \n",
    "    #ask on the next lecture\n",
    "    pass"
   ]
  },
  {
   "cell_type": "markdown",
   "id": "f68e06bb",
   "metadata": {},
   "source": [
    "![](./img/tasks2.42-2.44.png)"
   ]
  },
  {
   "cell_type": "code",
   "execution_count": 13,
   "id": "0b49170d",
   "metadata": {},
   "outputs": [
    {
     "name": "stdout",
     "output_type": "stream",
     "text": [
      "\n",
      "Task 2.42\n",
      "Diameter estimate: 1.3403419439976445\n",
      "\n",
      "Task 2.43\n",
      "P(4.910 <= avg(X) <= 6.050) = 0.97\n",
      "\n",
      "Task 2.44\n",
      "b) ans =  (0.125, 0.296875)\n"
     ]
    }
   ],
   "source": [
    "\n",
    "def task2_42():\n",
    "    print(\"\\nTask 2.42\")\n",
    "    samp=[1.24,1.38,1.25,1.17,1.27]\n",
    "    #a)\n",
    "    # v = 4/3*pi*d**3/8 = 1/6*pi*d**3\n",
    "    # d = (6*v/pi)**(1/3)\n",
    "    samp_d = np.array([(6*x/pi)**(1/3) for x in samp],dtype=float)\n",
    "    print(\"Diameter estimate:\",samp_d.mean())\n",
    "\n",
    "def task2_43():\n",
    "    print(\"\\nTask 2.43\")\n",
    "    n=17\n",
    "    mean=5.48 # mu\n",
    "    std=1.2 # sigma\n",
    "    \n",
    "    # X ~ N(mu,sigma)\n",
    "    alpha=0.05/2\n",
    "    # confidence interval of mean(X) - ?\n",
    "    # mean = 1/n * (X1+...+Xn) where X_i - iid normal rv (X_i~N(mu,sigma))\n",
    "    # => mean(X) -> N(mu,sigma/sqrt(n)) with p=1, n->inf according to the Central Limit Theorem\n",
    "    # => (mean(X)-mu)/sigma*sqrt(n) ~ N(0,1)\n",
    "    mu,sigma=sp.symbols(\"\\mu,\\sigma\")\n",
    "    N=norm\n",
    "    #task: find 95% confidence intervals of avg(X)\n",
    "    #avg(X) ~ N(mu, sigma/sqrt(n)) (CLT, central limit theorem)\n",
    "    # Let U ~ (avg(X) - mu) / (sigma/sqrt(n))\n",
    "    # => let u1,u2: P(u1<U<u2)=1-alpha=0.95\n",
    "    # U ~ N(0,1) => we can find u1 and u2 as follows:\n",
    "    # u1 = norm.ppf(alpha=0.05), u2 = norm.ppf(1-alpha=0.95)\n",
    "    # => P(mu + sigma*u1/sqrt(n) < avg(X) < mu + sigma*u2/sqrt(n)) = 1-alpha = 0.95\n",
    "    u1=norm.ppf(alpha,loc=0,scale=1)\n",
    "    u2=norm.ppf(1-alpha,loc=0,scale=1)\n",
    "    avg_min=mean+std*u1/sp.sqrt(n)\n",
    "    avg_max=mean+std*u2/sp.sqrt(n)\n",
    "    #std by definition\n",
    "    print(\"P(%.3f <= avg(X) <= %.3f) = %.2f\"%(avg_min,avg_max,1-alpha))\n",
    "    return avg_min,avg_max\n",
    "\n",
    "\n",
    "def task2_44():\n",
    "    print(\"\\nTask 2.44\")\n",
    "    sample=np.array([21,12,11,15,9,10,17,8,16,13,12,9,18],dtype=int)\n",
    "    \n",
    "    # X ~ N(mu,sigma)\n",
    "    alpha=0.05\n",
    "    x0=10\n",
    "    \n",
    "    #a) similar to task 2.43\n",
    "    #b) norm = 10; find confidence interval of the fraction of workers that do not match the norm\n",
    "    # |X<10|/|X| - ?\n",
    "    # |X<10|: \n",
    "    # P(N(mu,sigma)<10)=p, |X|=n => |X<10| ~ Binom(n,p) (Binomial distribution)\n",
    "    # |X<10|/|X| ~ Binom(n,p)/n\n",
    "    mu,sigma=sample.mean(),sample.std()\n",
    "    # mu = np, sigma = √np(1-p)\n",
    "    \n",
    "    p=norm.cdf(x0,loc=mu,scale=sigma)\n",
    "    n=int(mu/p)\n",
    "    \n",
    "    x_min,x_max=binom.ppf(alpha,n,p),binom.ppf(1-alpha,n,p)\n",
    "    x_min,x_max=x_min/n,x_max/n\n",
    "    print(\"b) ans = \",(x_min,x_max))\n",
    "\n",
    "task2_42()\n",
    "task2_43() \n",
    "task2_44()"
   ]
  },
  {
   "cell_type": "markdown",
   "id": "eafdde41",
   "metadata": {},
   "source": [
    "![](./img/task3.4.png)"
   ]
  },
  {
   "cell_type": "code",
   "execution_count": 85,
   "id": "f744b78e",
   "metadata": {},
   "outputs": [],
   "source": [
    "class Models:\n",
    "    @staticmethod\n",
    "    def display_results(t,crit,alternative):\n",
    "        b=False\n",
    "        if alternative==\"neq\":\n",
    "            b=crit[1][0]<=t<=crit[1][1] or crit[0][0]<=t<=crit[0][1]\n",
    "        else:\n",
    "            b=crit[0]<=t<=crit[1]\n",
    "        _1=\"Null hypothesis is correct\"\n",
    "        _2=\"Alternative hypothesis is correct\"\n",
    "        print(_1 if not b else _2)\n",
    "        \n",
    "    # Tests for the mean\n",
    "    @staticmethod\n",
    "    def mean_test1(X_mean,X_len,mu0,alpha,sigma,alternative=\"gt\"):\n",
    "        # X ~ N(mu,sigma) sigma is known\n",
    "        # H0: mu = mu0\n",
    "        def u(alp):\n",
    "            return norm.ppf(alp,loc=0,scale=1)\n",
    "        alts={\n",
    "            \"gt\":(u(1-alpha),np.inf),\n",
    "            \"lt\":(-np.inf,-u(1-alpha)),\n",
    "            \"neq\":((-np.inf,-u(1-alpha/2)),(u(1-alpha/2),np.inf))\n",
    "        }\n",
    "        t=(X_mean-mu0)/sigma*sqrt(X_len)\n",
    "        print(\"t =\",t)\n",
    "        crit=alts[alternative]\n",
    "        print(crit)\n",
    "        Models.display_results(t,crit,alternative)\n",
    "    \n",
    "    @staticmethod\n",
    "    def mean_test2(X_mean,X_len,X_sigma,mu0,alpha,alternative=\"gt\"):\n",
    "        # X ~ N(mu,sigma)\n",
    "        #H0: mu=mu0\n",
    "        def t(alp,k):\n",
    "            return tStudent.ppf(alp,k)\n",
    "        n=X_len\n",
    "        sigma=X_sigma\n",
    "        alts={\n",
    "            \"gt\":(t(1-alpha,n-1),np.inf),\n",
    "            \"lt\":(-np.inf,-t(1-alpha,n-1)),\n",
    "            \"neq\":((-np.inf,-t(1-alpha/2,n-1)),(t(1-alpha/2,n-1),np.inf))\n",
    "        }\n",
    "        t=(X_mean-mu0)/sigma*sqrt(n-1)\n",
    "        print(\"t =\",t)\n",
    "        crit=alts[alternative]\n",
    "        print(crit)\n",
    "        Models.display_results(t,crit,alternative)\n",
    "        \n",
    "    @staticmethod\n",
    "    def mean_test3(X_mean,X_std,X_len, alpha, mu0, alternative=\"gt\"):\n",
    "        # X has as unknown distribution\n",
    "        # X has a finite mean and std\n",
    "        #H0: mu=mu0\n",
    "        Models.mean_test1(X_mean,X_len,mu0,alpha,X_std,alternative)\n",
    "    \n",
    "    # Tests for the standard deviation\n",
    "    def var_test1(X_len, X_var, var0, alpha, alternative=\"gt\"):\n",
    "        # X ~ N(mu,sigma); parameters mu and sigma are unknown\n",
    "        #H0: X_var=var0\n",
    "        def s(alpha,n):\n",
    "            return chi2.ppf(alpha,n)\n",
    "        n=X_len\n",
    "        alts={\n",
    "            \"lt\":(0,s(alpha,n-1)),\n",
    "            \"gt\":(s(1-alpha,n-1),np.inf),\n",
    "            \"neq\":((0,s(alpha/2,n-1)),(s(1-alpha/2,n-1),np.inf))\n",
    "        }\n",
    "        t=(n*X_var)/var0\n",
    "        print(\"t =\",t)\n",
    "        crit=alts[alternative]\n",
    "        print(crit)\n",
    "        Models.display_results(t,crit,alternative)\n",
    "    \n",
    "    @staticmethod\n",
    "    def var_test2(X_len, X_std, var0, alpha, alternative=\"gt\"):\n",
    "        # X ~ N(mu,sigma); parameters mu and sigma are unknown\n",
    "        # this model is used when X_len >= 50\n",
    "        #H0: X_std**2=var0\n",
    "        def u(alp):\n",
    "            return norm.ppf(alp,loc=0,scale=1)\n",
    "        n=X_len\n",
    "        S=X_std\n",
    "        s0=var0\n",
    "        alts={\n",
    "            \"gt\":(u(1-alpha),np.inf),\n",
    "            \"lt\":(-np.inf,-u(1-alpha)),\n",
    "            \"neq\":((-np.inf,-u(1-alpha/2)),(u(1-alpha/2),np.inf))\n",
    "        }\n",
    "        t=sqrt(2*n*S**2/var0)-sqrt(2*n-3)\n",
    "        print(\"t =\",t)\n",
    "        crit=alts[alternative]\n",
    "        print(crit)\n",
    "        Models.display_results(t,crit,alternative)\n",
    "    \n",
    "    @staticmethod\n",
    "    def var_test3(X_len, X_var, var0, alpha, alternative=\"gt\"):\n",
    "        # X has an unknown distribution with finite variance\n",
    "        # this model is used when X_len >= 100\n",
    "        #H0: X_var=var0\n",
    "        def u(alp):\n",
    "            return norm.ppf(alp,loc=0,scale=1)\n",
    "        n=X_len\n",
    "        S=X_var\n",
    "        s0=var0\n",
    "        alts={\n",
    "            \"gt\":(u(1-alpha),np.inf),\n",
    "            \"lt\":(-np.inf,-u(1-alpha)),\n",
    "            \"neq\":((-np.inf,-u(1-alpha/2)),(u(1-alpha/2),np.inf))\n",
    "        }\n",
    "        t = ((S-s0)/s0)*sqrt(n/2)\n",
    "        print(\"t =\",t)\n",
    "        crit=alts[alternative]\n",
    "        print(crit)\n",
    "        Models.display_results(t,crit,alternative)\n",
    "        \n",
    "    # Two sample tests\n",
    "    def two_samp_test1(X1_len,X2_len,X1_var,X2_var,alpha,alternative=\"gt\"):\n",
    "        # X1 ~ N(mu1,sigma1)\n",
    "        # X2 ~ N(mu2,sigma2)\n",
    "        # H0: sigma1 = sigma2\n",
    "        def sn(alp,n1,n2):\n",
    "            return fSnedecor.ppf(alp,n1,n2)\n",
    "        n1,n2=X1_len,X2_len\n",
    "        S1,S2=X1_var,X2_var\n",
    "        \n",
    "        alts={\n",
    "            \"gt\":(sn(1-alpha,n1-1,n2-1),np.inf),\n",
    "            \"lt\":(sn(1-alpha,n2-1,n1-1),np.inf),\n",
    "            \"neq\":((sn(1-alpha/2,n1-1 if S1>S2 else n2-1,n2-1 if S1>S2 else n1-1),np.inf),(0,0))\n",
    "        }\n",
    "        t = S2/S1\n",
    "        print(\"t =\",t)\n",
    "        crit=alts[alternative]\n",
    "        print(crit)\n",
    "        Models.display_results(t,crit,alternative)\n",
    "        \n",
    "    @staticmethod\n",
    "    def two_samp_test2(X1_len,X2_len,X1_var,X2_var,X1_mean,X2_mean,alpha,alternative=\"gt\"):\n",
    "        # X1 ~ N(mu1,sigma1)\n",
    "        # X2 ~ N(mu2,sigma2)\n",
    "        # H0: mu1 = mu2\n",
    "        def u(alp):\n",
    "            return norm.ppf(alp,loc=0,scale=1)\n",
    "        alts={\n",
    "            \"gt\":(u(1-alpha),np.inf),\n",
    "            \"lt\":(-np.inf,-u(1-alpha)),\n",
    "            \"neq\":((-np.inf,-u(1-alpha/2)),(u(1-alpha/2),np.inf))\n",
    "        }\n",
    "        t = (X1_mean-X2_mean)/sqrt(X1_var/X1_len+X2_var/X2_len)\n",
    "        print(\"t =\",t)\n",
    "        crit=alts[alternative]\n",
    "        print(crit)\n",
    "        Models.display_results(t,crit,alternative)\n",
    "    \n",
    "    @staticmethod\n",
    "    def two_sample_test3():\n",
    "        # X1 ~ N(mu1,sigma1)\n",
    "        # X2 ~ N(mu2,sigma2)\n",
    "        # sigma1 = sigma2 (unknown)\n",
    "        # H0: mu1 = mu2\n",
    "        "
   ]
  },
  {
   "cell_type": "code",
   "execution_count": 86,
   "id": "e7a5c03b",
   "metadata": {},
   "outputs": [
    {
     "name": "stdout",
     "output_type": "stream",
     "text": [
      "\n",
      "task 3.3\n",
      "t = -0.45000000000000007\n",
      "(-inf, -1.6448536269514722)\n",
      "Null hypothesis is correct\n",
      "\n",
      "task 3.4\n",
      "t = -8.979591836734693\n",
      "(-inf, -2.3860370460693847)\n",
      "Alternative hypothesis is correct\n",
      "\n",
      "task 3.5\n",
      "t = 2.2189234058310294\n",
      "((-inf, -2.5758293035489004), (2.5758293035489004, inf))\n",
      "Null hypothesis is correct\n"
     ]
    }
   ],
   "source": [
    "def task3_3():\n",
    "    print(\"\\ntask 3.3\")\n",
    "    s=4\n",
    "    n=9\n",
    "    alpha=0.05\n",
    "    mu0=2\n",
    "    x_mean=1.4\n",
    "    \n",
    "    Models.mean_test1(x_mean,n,mu0,alpha,s,\"lt\")\n",
    "    \n",
    "task3_3()\n",
    "\n",
    "def task3_4():\n",
    "    print(\"\\ntask 3.4\")\n",
    "    # usage limit: 150 days = mu_0\n",
    "    # 65 randomly chosen workers\n",
    "    \n",
    "    # mean: 139\n",
    "    # std: 9.8\n",
    "    # q: is it necessary to change (decrease) the usage limit (=150)?\n",
    "    \n",
    "    #Model :\n",
    "    # X~N(mu,sigma)\n",
    "    # H0 : mu = mu_0\n",
    "    # statistics: t = (mean - expected_mean) / std * sqrt(n-1)\n",
    "    # t has a t-Student distribution with n-1 degrees of freedom if H0 is correct\n",
    "    # \n",
    "    Models.mean_test2(X_mean=139,X_len=65,X_sigma=9.8,mu0=150,alpha=0.01,alternative=\"lt\")\n",
    "    \n",
    "task3_4()\n",
    "\n",
    "def task3_5():\n",
    "    print(\"\\ntask 3.5\")\n",
    "    data = [\n",
    "        # range mean - count\n",
    "        (8,4),\n",
    "        (13,9),\n",
    "        (18,18),\n",
    "        (23,70),\n",
    "        (28,75),\n",
    "        (33,19),\n",
    "        (38,3)\n",
    "    ]\n",
    "    X=[]\n",
    "    for x in data:\n",
    "        X+=[x[0]]*x[1]\n",
    "    X=np.array(X,dtype=int)\n",
    "    alpha=0.01\n",
    "    mu0=24\n",
    "    Models.mean_test3(X.mean(),X.std(),len(X),alpha,mu0,\"neq\")\n",
    "\n",
    "task3_5()"
   ]
  },
  {
   "cell_type": "code",
   "execution_count": 87,
   "id": "21100054",
   "metadata": {},
   "outputs": [
    {
     "name": "stdout",
     "output_type": "stream",
     "text": [
      "\n",
      "task 3.\n",
      "0.06403124237432893\n",
      "t = 8.537498983243857\n",
      "((0, 1.689869180677355), (16.012764274629326, inf))\n",
      "Null hypothesis is correct\n",
      "\n",
      "task 3.7\n",
      "t = 0.5097135282667438\n",
      "(1.6448536269514722, inf)\n",
      "Null hypothesis is correct\n",
      "\n",
      "task 3.8\n",
      "t = -1.0312499999999996\n",
      "(-inf, -1.6448536269514722)\n",
      "Null hypothesis is correct\n"
     ]
    }
   ],
   "source": [
    "def task3_6():\n",
    "    print(\"\\ntask 3.\")\n",
    "    X = np.array([18.17,18.21,18.05,18.14,18.19,18.22,18.06,18.08],dtype=float)\n",
    "    alpha=0.05\n",
    "    var0=0.06\n",
    "    X_var=X.std()\n",
    "    print(X_var)\n",
    "    alt=\"neq\"\n",
    "    Models.var_test1(len(X),X_var,var0,alpha,alt)\n",
    "task3_6()\n",
    "\n",
    "def task3_7():\n",
    "    print(\"\\ntask 3.7\")\n",
    "    X_len=50\n",
    "    X_var=107.3\n",
    "    alpha=0.05\n",
    "    var0=100\n",
    "    alt=\"gt\"\n",
    "    Models.var_test2(X_len,sqrt(X_var),var0,alpha,alt)\n",
    "task3_7()\n",
    "\n",
    "def task3_8():\n",
    "    print(\"\\ntask 3.8\")\n",
    "    X_len=450\n",
    "    X_var=14.9\n",
    "    alpha=0.05\n",
    "    var0=16\n",
    "    alt=\"lt\"\n",
    "    Models.var_test3(X_len,X_var,var0,alpha,alt)\n",
    "task3_8()"
   ]
  },
  {
   "cell_type": "code",
   "execution_count": 88,
   "id": "03ea9284",
   "metadata": {},
   "outputs": [
    {
     "name": "stdout",
     "output_type": "stream",
     "text": [
      "\n",
      "task 3.9\n",
      "t = 1.0789473684210527\n",
      "(2.543534301429705, inf)\n",
      "Null hypothesis is correct\n"
     ]
    }
   ],
   "source": [
    "def task3_9():\n",
    "    print(\"\\ntask 3.9\")\n",
    "    X1_len,X2_len,X1_var,X2_var,alpha,alternative=20,8,3.8,4.1,0.05,\"lt\"\n",
    "    Models.two_samp_test1(X1_len,X2_len,X1_var,X2_var,alpha,alternative)\n",
    "task3_9()"
   ]
  },
  {
   "cell_type": "code",
   "execution_count": 89,
   "id": "fb898dc1",
   "metadata": {},
   "outputs": [
    {
     "name": "stdout",
     "output_type": "stream",
     "text": [
      "\n",
      "task 3.10\n",
      "t = 2.4820741946388956\n",
      "((-inf, -1.959963984540054), (1.959963984540054, inf))\n",
      "Alternative hypothesis is correct\n"
     ]
    }
   ],
   "source": [
    "def task3_10():\n",
    "    print(\"\\ntask 3.10\")\n",
    "    X1=np.array([5.25,5.98,5.83,5.58,5.35,5.59,5.41,5.81,5.95,5.72],dtype=float)\n",
    "    X2=np.array([5.31,5.13,5.64,5.89,5.17,5.18,5.27,5.73,5.08,5.24],dtype=float)\n",
    "    var1=0.06\n",
    "    var2=0.07\n",
    "    alpha=0.05\n",
    "    alt=\"neq\"\n",
    "    Models.two_samp_test2(len(X1),len(X2),var1,var2,X1.mean(),X2.mean(),alpha,alt)\n",
    "task3_10()"
   ]
  },
  {
   "cell_type": "code",
   "execution_count": null,
   "id": "64c72437",
   "metadata": {},
   "outputs": [],
   "source": []
  }
 ],
 "metadata": {
  "kernelspec": {
   "display_name": "Python 3 (ipykernel)",
   "language": "python",
   "name": "python3"
  },
  "language_info": {
   "codemirror_mode": {
    "name": "ipython",
    "version": 3
   },
   "file_extension": ".py",
   "mimetype": "text/x-python",
   "name": "python",
   "nbconvert_exporter": "python",
   "pygments_lexer": "ipython3",
   "version": "3.10.7"
  }
 },
 "nbformat": 4,
 "nbformat_minor": 5
}
