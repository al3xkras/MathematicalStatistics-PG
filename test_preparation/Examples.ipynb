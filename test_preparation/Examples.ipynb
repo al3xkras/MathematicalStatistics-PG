{
 "cells": [
  {
   "cell_type": "code",
   "execution_count": 4,
   "id": "d92b092f",
   "metadata": {},
   "outputs": [],
   "source": [
    "import sympy as sp\n",
    "import numpy as np\n",
    "from scipy.stats import norm\n",
    "from IPython.display import display"
   ]
  },
  {
   "cell_type": "markdown",
   "id": "532eae84",
   "metadata": {},
   "source": [
    "![](./img/task2_8.png)"
   ]
  },
  {
   "cell_type": "code",
   "execution_count": 14,
   "id": "1a94175a",
   "metadata": {},
   "outputs": [
    {
     "data": {
      "text/latex": [
       "$\\displaystyle \\mu$"
      ],
      "text/plain": [
       "\\mu"
      ]
     },
     "metadata": {},
     "output_type": "display_data"
    },
    {
     "data": {
      "text/latex": [
       "$\\displaystyle \\sigma$"
      ],
      "text/plain": [
       "\\sigma"
      ]
     },
     "metadata": {},
     "output_type": "display_data"
    },
    {
     "name": "stdout",
     "output_type": "stream",
     "text": [
      "31.00145157891804\n",
      "30.9967740256950\n",
      "P( 327.775 <= avg(X) <= 360.025) = 0.95\n"
     ]
    },
    {
     "data": {
      "text/plain": [
       "(327.774644939424, 360.025355060576)"
      ]
     },
     "execution_count": 14,
     "metadata": {},
     "output_type": "execute_result"
    }
   ],
   "source": [
    "def task2_8():\n",
    "    samp=np.array([382,284,339,340,305,386,378,335,344,346],dtype=int)\n",
    "    mu,sigma=sp.symbols(\"\\mu,\\sigma\")\n",
    "    N=norm\n",
    "    display(mu,sigma)\n",
    "    alpha=0.05 #confidence level\n",
    "    def avg(X):\n",
    "        return X.mean()\n",
    "    #task: find 95% confidence intervals of avg(X)\n",
    "    #avg(X) ~ N(mu, sigma/sqrt(n)) (CLT, central limit theorem)\n",
    "    # Let U ~ (avg(X) - mu) / (sigma/sqrt(n))\n",
    "    # => let u1,u2: P(u1<U<u2)=1-alpha=0.95\n",
    "    # U ~ N(0,1) => we can fing u1 and u2 as follows:\n",
    "    # u1 = norm.ppf(alpha=0.05), u2 = norm.ppf(1-alpha=0.95)\n",
    "    # => P(mu + sigma*u1/sqrt(n) < avg(X) < mu + sigma*u2/sqrt(n)) = 1-alpha = 0.95\n",
    "    u1=norm.ppf(alpha,loc=0,scale=1)\n",
    "    u2=norm.ppf(1-alpha,loc=0,scale=1)\n",
    "    avg_min=mu+sigma*u1/sp.sqrt(len(samp))\n",
    "    avg_max=mu+sigma*u2/sp.sqrt(len(samp))\n",
    "    mu_val=samp.mean()\n",
    "    sigma_val=samp.std()\n",
    "    print(sigma_val)\n",
    "    #std by definition\n",
    "    print(sp.sqrt(np.array([(x-mu_val)**2 for x in samp],dtype=int).mean()))\n",
    "    t1,t2=[x.subs(mu,mu_val).subs(sigma,sigma_val).evalf() for x in [avg_min,avg_max]]\n",
    "    print(\"P( %.3f <= avg(X) <= %.3f) = %.2f\"%(t1,t2,1-alpha))\n",
    "    return t1,t2\n",
    "task2_8()\n"
   ]
  },
  {
   "cell_type": "code",
   "execution_count": null,
   "id": "7631616b",
   "metadata": {},
   "outputs": [],
   "source": []
  }
 ],
 "metadata": {
  "kernelspec": {
   "display_name": "Python 3 (ipykernel)",
   "language": "python",
   "name": "python3"
  },
  "language_info": {
   "codemirror_mode": {
    "name": "ipython",
    "version": 3
   },
   "file_extension": ".py",
   "mimetype": "text/x-python",
   "name": "python",
   "nbconvert_exporter": "python",
   "pygments_lexer": "ipython3",
   "version": "3.10.7"
  }
 },
 "nbformat": 4,
 "nbformat_minor": 5
}
