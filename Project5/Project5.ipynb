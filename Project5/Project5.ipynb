{
 "cells": [
  {
   "cell_type": "markdown",
   "id": "b5e093fd",
   "metadata": {},
   "source": [
    "### Project 5 Documentation"
   ]
  },
  {
   "cell_type": "markdown",
   "id": "4e759a89",
   "metadata": {},
   "source": [
    "ARIMA Time Series forecasting"
   ]
  },
  {
   "cell_type": "markdown",
   "id": "493104c2",
   "metadata": {},
   "source": [
    "Task 1:\n",
    "- "
   ]
  },
  {
   "cell_type": "markdown",
   "id": "b491b814",
   "metadata": {},
   "source": [
    "#### 1. Data Source:\n",
    "- The data source for the Project 5:\n",
    "    - Task 1: NBP exchange rates bewteen PLN and THB\n",
    "    - Task 2: cryptocurrency exchange rates between USD and BTC\n"
   ]
  },
  {
   "cell_type": "markdown",
   "id": "f8275bf9",
   "metadata": {},
   "source": [
    "##### 2. Research purpose:\n",
    "\n",
    "1. Task1:\n",
    "    - Use the ADF-test to test stationarity of the data\n",
    "        - Def: A stochastic process is a stationary process, if its joint PDF does not change when shifted in time\n",
    "        - If a process is stationary, its moments (e.g. mean, variance, skewness, kurtosis) do not change over time\n",
    "    - Build the ARIMA model with parameters p,d,q; \n",
    "        - If the data is stationary: set d=0 (differentiation order)\n",
    "    - Find parameters p,q (autoregressive terms and moving average window), that fit the model the best\n",
    "    - Try to predict the exchange rates based on the ARIMA model\n",
    "    - \n",
    "0. Given three functions (statistics) over a sample X:\n",
    "  - Min(X) = $\\space\\space X_{1:n}\\space\\space  -  $ Sample X minimum\n",
    "  - Mean(X) = $\\space\\space (X_{1:n}, X_{n:n})\\space\\space  ---||--- \\text{mean}$ \n",
    "  - Max(X) = $\\space\\space X_{n:n}\\space\\space  ---||--- \\text{maximum}$\n",
    "0. Given parameter $\\theta = 10$ (or any natural number)\n",
    "0. Null hypothesis, $\\text{H0}$: $\\space\\space X \\text{ ~ } \\textit{Unif }[0, \\theta]$\n",
    "0. Null hypothesis, $\\text{H0}$: $\\textbf{Max(X)}\\text{ is a sufficient statistics for the parameter }\\theta$\n",
    "0. Alternative hypothesis, $\\text{H1}$: $\\textbf{Mean(X)}\\text{ is a sufficient statistics for the parameter }\\theta$"
   ]
  },
  {
   "cell_type": "code",
   "execution_count": null,
   "id": "bc317ad6",
   "metadata": {},
   "outputs": [],
   "source": []
  }
 ],
 "metadata": {
  "kernelspec": {
   "display_name": "Python 3 (ipykernel)",
   "language": "python",
   "name": "python3"
  },
  "language_info": {
   "codemirror_mode": {
    "name": "ipython",
    "version": 3
   },
   "file_extension": ".py",
   "mimetype": "text/x-python",
   "name": "python",
   "nbconvert_exporter": "python",
   "pygments_lexer": "ipython3",
   "version": "3.10.7"
  }
 },
 "nbformat": 4,
 "nbformat_minor": 5
}
