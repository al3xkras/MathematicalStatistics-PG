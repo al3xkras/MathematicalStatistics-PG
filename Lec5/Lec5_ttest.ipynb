{
 "cells": [
  {
   "cell_type": "code",
   "execution_count": 1,
   "id": "d271fd33",
   "metadata": {},
   "outputs": [],
   "source": [
    "import numpy as np\n",
    "import matplotlib.pyplot as plt\n",
    "from scipy.stats import uniform"
   ]
  },
  {
   "cell_type": "code",
   "execution_count": 4,
   "id": "01ac5fc6",
   "metadata": {},
   "outputs": [
    {
     "name": "stdout",
     "output_type": "stream",
     "text": [
      "initiated datasets repo at: C:\\Users\\alexkras\\.pydataset/\n"
     ]
    }
   ],
   "source": [
    "from pydataset import data"
   ]
  },
  {
   "cell_type": "code",
   "execution_count": 7,
   "id": "5bd6b4b9",
   "metadata": {},
   "outputs": [],
   "source": [
    "pydata = data('iris')"
   ]
  },
  {
   "cell_type": "code",
   "execution_count": 101,
   "id": "6868f3c3",
   "metadata": {},
   "outputs": [
    {
     "data": {
      "text/html": [
       "<div>\n",
       "<style scoped>\n",
       "    .dataframe tbody tr th:only-of-type {\n",
       "        vertical-align: middle;\n",
       "    }\n",
       "\n",
       "    .dataframe tbody tr th {\n",
       "        vertical-align: top;\n",
       "    }\n",
       "\n",
       "    .dataframe thead th {\n",
       "        text-align: right;\n",
       "    }\n",
       "</style>\n",
       "<table border=\"1\" class=\"dataframe\">\n",
       "  <thead>\n",
       "    <tr style=\"text-align: right;\">\n",
       "      <th></th>\n",
       "      <th>Sepal.Length</th>\n",
       "      <th>Sepal.Width</th>\n",
       "      <th>Petal.Length</th>\n",
       "      <th>Petal.Width</th>\n",
       "      <th>Species</th>\n",
       "    </tr>\n",
       "  </thead>\n",
       "  <tbody>\n",
       "    <tr>\n",
       "      <th>1</th>\n",
       "      <td>5.1</td>\n",
       "      <td>3.5</td>\n",
       "      <td>1.4</td>\n",
       "      <td>0.2</td>\n",
       "      <td>setosa</td>\n",
       "    </tr>\n",
       "    <tr>\n",
       "      <th>2</th>\n",
       "      <td>4.9</td>\n",
       "      <td>3.0</td>\n",
       "      <td>1.4</td>\n",
       "      <td>0.2</td>\n",
       "      <td>setosa</td>\n",
       "    </tr>\n",
       "    <tr>\n",
       "      <th>3</th>\n",
       "      <td>4.7</td>\n",
       "      <td>3.2</td>\n",
       "      <td>1.3</td>\n",
       "      <td>0.2</td>\n",
       "      <td>setosa</td>\n",
       "    </tr>\n",
       "    <tr>\n",
       "      <th>4</th>\n",
       "      <td>4.6</td>\n",
       "      <td>3.1</td>\n",
       "      <td>1.5</td>\n",
       "      <td>0.2</td>\n",
       "      <td>setosa</td>\n",
       "    </tr>\n",
       "    <tr>\n",
       "      <th>5</th>\n",
       "      <td>5.0</td>\n",
       "      <td>3.6</td>\n",
       "      <td>1.4</td>\n",
       "      <td>0.2</td>\n",
       "      <td>setosa</td>\n",
       "    </tr>\n",
       "  </tbody>\n",
       "</table>\n",
       "</div>"
      ],
      "text/plain": [
       "   Sepal.Length  Sepal.Width  Petal.Length  Petal.Width Species\n",
       "1           5.1          3.5           1.4          0.2  setosa\n",
       "2           4.9          3.0           1.4          0.2  setosa\n",
       "3           4.7          3.2           1.3          0.2  setosa\n",
       "4           4.6          3.1           1.5          0.2  setosa\n",
       "5           5.0          3.6           1.4          0.2  setosa"
      ]
     },
     "execution_count": 101,
     "metadata": {},
     "output_type": "execute_result"
    }
   ],
   "source": [
    "pydata.head()"
   ]
  },
  {
   "cell_type": "code",
   "execution_count": 25,
   "id": "56fb610b",
   "metadata": {},
   "outputs": [
    {
     "data": {
      "text/plain": [
       "(150, 5)"
      ]
     },
     "execution_count": 25,
     "metadata": {},
     "output_type": "execute_result"
    }
   ],
   "source": [
    "size = pydata.shape\n",
    "size"
   ]
  },
  {
   "cell_type": "code",
   "execution_count": 28,
   "id": "2821d773",
   "metadata": {},
   "outputs": [],
   "source": [
    "sample1 = pydata[:][:size[0]//2]\n",
    "sample2 = pydata[:][size[0]//2:size[0]+1]"
   ]
  },
  {
   "cell_type": "markdown",
   "id": "104feee8",
   "metadata": {},
   "source": [
    "One sample T-test"
   ]
  },
  {
   "cell_type": "code",
   "execution_count": 48,
   "id": "74a32d22",
   "metadata": {},
   "outputs": [],
   "source": [
    "from bioinfokit.analys import stat\n",
    "\n",
    "res = stat()\n",
    "\n",
    "sample=pydata\n",
    "sample_size=size"
   ]
  },
  {
   "cell_type": "code",
   "execution_count": 55,
   "id": "4626f5d4",
   "metadata": {},
   "outputs": [],
   "source": [
    "sepal_len_mean = 5.8\n",
    "res.ttest(df=sample, test_type=1, res='Sepal.Length', mu=sepal_len_mean)"
   ]
  },
  {
   "cell_type": "code",
   "execution_count": 56,
   "id": "205dc8b4",
   "metadata": {},
   "outputs": [
    {
     "name": "stdout",
     "output_type": "stream",
     "text": [
      "\n",
      "One Sample t-test \n",
      "\n",
      "------------------  ----------\n",
      "Sample size         150\n",
      "Mean                  5.84333\n",
      "t                     0.640918\n",
      "Df                  149\n",
      "p value (one-tail)    0.26128\n",
      "p value (two-tail)    0.52256\n",
      "Lower 95.0%           5.70973\n",
      "Upper 95.0%           5.97693\n",
      "------------------  ----------\n"
     ]
    }
   ],
   "source": [
    "print(res.summary)"
   ]
  },
  {
   "cell_type": "code",
   "execution_count": 57,
   "id": "e058731f",
   "metadata": {},
   "outputs": [
    {
     "data": {
      "text/plain": [
       "(0.6409183514112012, 0.5225602746220779)"
      ]
     },
     "execution_count": 57,
     "metadata": {},
     "output_type": "execute_result"
    }
   ],
   "source": [
    "# access t value and p value (two-tailed)\n",
    "t, p = res.result[1], res.result[3]\n",
    "t, p"
   ]
  },
  {
   "cell_type": "code",
   "execution_count": null,
   "id": "a0dc08d6",
   "metadata": {},
   "outputs": [],
   "source": []
  },
  {
   "cell_type": "markdown",
   "id": "a6f5e7a0",
   "metadata": {},
   "source": [
    "### Two sample t-test (unpaired or independent t-test)"
   ]
  },
  {
   "cell_type": "markdown",
   "id": "661f97e4",
   "metadata": {},
   "source": [
    "Hypotheses\n",
    "<ul>\n",
    "    <li>Null hypothesis: Two group means are equal</li>\n",
    "    <li>Alternative hypothesis: Two group means are different (two-tailed or two-sided)</li>\n",
    "    <li>Alternative hypothesis: Mean of one group either greater or lesser than another group (one-tailed or one-sided)</li>\n",
    "</ul>"
   ]
  },
  {
   "cell_type": "markdown",
   "id": "0711ee6e",
   "metadata": {},
   "source": [
    "Assumptions<ul>\n",
    "    <li>Observations in two groups have an approximately normal distribution (Shapiro-Wilks Test)</li>\n",
    "    <li>Homogeneity of variances (variances are equal between treatment groups) (Levene or Bartlett Test)</li>\n",
    "    <li>The two groups are sampled independently from each other from the same population</li>\n",
    "    <li>Dependent variable should be continuous</li>\n",
    "    <li>Population variances (σ1 and σ2) are unknown</li>\n",
    "</ul>"
   ]
  },
  {
   "cell_type": "code",
   "execution_count": 99,
   "id": "7a534800",
   "metadata": {},
   "outputs": [
    {
     "name": "stdout",
     "output_type": "stream",
     "text": [
      "\n",
      "Two sample t-test with equal variance\n",
      "\n",
      "------------------  -----------\n",
      "Mean diff           -0.204\n",
      "t                   -3.20576\n",
      "Std Error            0.0636354\n",
      "df                  98\n",
      "p value (one-tail)   0.00090955\n",
      "p value (two-tail)   0.0018191\n",
      "Lower 95.0%         -0.330282\n",
      "Upper 95.0%         -0.0777175\n",
      "------------------  -----------\n",
      "\n",
      "Parameter estimates\n",
      "\n",
      "Level         Number    Mean    Std Dev    Std Error    Lower 95.0%    Upper 95.0%\n",
      "----------  --------  ------  ---------  -----------  -------------  -------------\n",
      "versicolor        50   2.77    0.313798    0.0443778        2.68082        2.85918\n",
      "virginica         50   2.974   0.322497    0.0456079        2.88235        3.06565\n",
      "\n"
     ]
    }
   ],
   "source": [
    "sample=pydata.loc[[x in ['virginica','versicolor'] for x in pydata['Species']]]\n",
    "\n",
    "# for unequal variance t-test (Welch's t-test) set evar=False\n",
    "res = stat()\n",
    "res.ttest(df=sample, xfac=\"Species\", res=\"Sepal.Width\", test_type=2)\n",
    "print(res.summary)"
   ]
  },
  {
   "cell_type": "code",
   "execution_count": 100,
   "id": "fd6dc793",
   "metadata": {},
   "outputs": [
    {
     "data": {
      "text/plain": [
       "(-3.2057607502218186, 0.0018191004238894803)"
      ]
     },
     "execution_count": 100,
     "metadata": {},
     "output_type": "execute_result"
    }
   ],
   "source": [
    "# t value and p value (two-tailed)\n",
    "t, p = res.result[1], res.result[3]\n",
    "t, p"
   ]
  },
  {
   "cell_type": "markdown",
   "id": "3236cee0",
   "metadata": {},
   "source": [
    "Interpretation\n",
    "\n",
    "The p value obtained from the t-test is significant (p < 0.05), and therefore, <br>\n",
    "we conclude that the Sepal.Width of \"virginica\" is significantly different than Sepal.Width of \"versicolor\""
   ]
  },
  {
   "cell_type": "code",
   "execution_count": null,
   "id": "800aaa59",
   "metadata": {},
   "outputs": [],
   "source": []
  },
  {
   "cell_type": "markdown",
   "id": "481e0960",
   "metadata": {},
   "source": [
    "Paired t-test (dependent t-test)\n",
    "<ul>\n",
    "    <li>Paired t-test used to compare the differences between the pair of dependent variables for the same subject</li>\n",
    "    <li>For example, we have plant variety A and would like to compare the yield of A before and after the application of some fertilizer</li>\n",
    "    <li>Note: Paired t-test is a one sample t-test on the differences between the two dependent variables</li>\n",
    "</ul>"
   ]
  },
  {
   "cell_type": "markdown",
   "id": "57834884",
   "metadata": {},
   "source": [
    "Hypotheses\n",
    "<ul>\n",
    "    <li>Null hypothesis: There is no difference between the two dependent variables (difference=0)</li>\n",
    "    <li>Alternative hypothesis: There is a difference between the two dependent variables (two-tailed or two-sided)</li>\n",
    "    <li>Alternative hypothesis: Difference between two response variables either greater or lesser than zero (one-tailed or one-sided)</li>\n",
    "</ul>"
   ]
  },
  {
   "cell_type": "markdown",
   "id": "35c4d095",
   "metadata": {},
   "source": [
    "Assumptions\n",
    "<ul>\n",
    "    <li>Differences between the two dependent variables follows an approximately normal distribution (Shapiro-Wilks Test)</li>\n",
    "    <li>Independent variable should have a pair of dependent variables</li>\n",
    "    <li>Differences between the two dependent variables should not have outliers</li>\n",
    "    <li>Observations are sampled independently from each other</li>\n",
    "    <li>Dependent variable should be continuous</li>\n",
    "    <li>Population variance (σd1) for difference is unknown</li>\n",
    "</ul>"
   ]
  },
  {
   "cell_type": "code",
   "execution_count": 120,
   "id": "e5323a9e",
   "metadata": {},
   "outputs": [
    {
     "data": {
      "text/html": [
       "<div>\n",
       "<style scoped>\n",
       "    .dataframe tbody tr th:only-of-type {\n",
       "        vertical-align: middle;\n",
       "    }\n",
       "\n",
       "    .dataframe tbody tr th {\n",
       "        vertical-align: top;\n",
       "    }\n",
       "\n",
       "    .dataframe thead th {\n",
       "        text-align: right;\n",
       "    }\n",
       "</style>\n",
       "<table border=\"1\" class=\"dataframe\">\n",
       "  <thead>\n",
       "    <tr style=\"text-align: right;\">\n",
       "      <th></th>\n",
       "      <th>chamber</th>\n",
       "      <th>ozone</th>\n",
       "      <th>id</th>\n",
       "      <th>time</th>\n",
       "      <th>wave</th>\n",
       "      <th>logsize</th>\n",
       "    </tr>\n",
       "  </thead>\n",
       "  <tbody>\n",
       "    <tr>\n",
       "      <th>1</th>\n",
       "      <td>1</td>\n",
       "      <td>enriched</td>\n",
       "      <td>1</td>\n",
       "      <td>152</td>\n",
       "      <td>1</td>\n",
       "      <td>4.51</td>\n",
       "    </tr>\n",
       "    <tr>\n",
       "      <th>2</th>\n",
       "      <td>1</td>\n",
       "      <td>enriched</td>\n",
       "      <td>1</td>\n",
       "      <td>174</td>\n",
       "      <td>2</td>\n",
       "      <td>4.98</td>\n",
       "    </tr>\n",
       "    <tr>\n",
       "      <th>3</th>\n",
       "      <td>1</td>\n",
       "      <td>enriched</td>\n",
       "      <td>1</td>\n",
       "      <td>201</td>\n",
       "      <td>3</td>\n",
       "      <td>5.41</td>\n",
       "    </tr>\n",
       "    <tr>\n",
       "      <th>4</th>\n",
       "      <td>1</td>\n",
       "      <td>enriched</td>\n",
       "      <td>1</td>\n",
       "      <td>227</td>\n",
       "      <td>4</td>\n",
       "      <td>5.90</td>\n",
       "    </tr>\n",
       "    <tr>\n",
       "      <th>5</th>\n",
       "      <td>1</td>\n",
       "      <td>enriched</td>\n",
       "      <td>1</td>\n",
       "      <td>258</td>\n",
       "      <td>5</td>\n",
       "      <td>6.15</td>\n",
       "    </tr>\n",
       "  </tbody>\n",
       "</table>\n",
       "</div>"
      ],
      "text/plain": [
       "   chamber     ozone  id  time  wave  logsize\n",
       "1        1  enriched   1   152     1     4.51\n",
       "2        1  enriched   1   174     2     4.98\n",
       "3        1  enriched   1   201     3     5.41\n",
       "4        1  enriched   1   227     4     5.90\n",
       "5        1  enriched   1   258     5     6.15"
      ]
     },
     "execution_count": 120,
     "metadata": {},
     "output_type": "execute_result"
    }
   ],
   "source": [
    "pydata1 = data(\"spruce\")\n",
    "pydata1.head()"
   ]
  },
  {
   "cell_type": "code",
   "execution_count": 132,
   "id": "a47e8729",
   "metadata": {},
   "outputs": [
    {
     "data": {
      "text/html": [
       "<div>\n",
       "<style scoped>\n",
       "    .dataframe tbody tr th:only-of-type {\n",
       "        vertical-align: middle;\n",
       "    }\n",
       "\n",
       "    .dataframe tbody tr th {\n",
       "        vertical-align: top;\n",
       "    }\n",
       "\n",
       "    .dataframe thead th {\n",
       "        text-align: right;\n",
       "    }\n",
       "</style>\n",
       "<table border=\"1\" class=\"dataframe\">\n",
       "  <thead>\n",
       "    <tr style=\"text-align: right;\">\n",
       "      <th></th>\n",
       "      <th>ozone_normal</th>\n",
       "      <th>ozone_enriched</th>\n",
       "    </tr>\n",
       "  </thead>\n",
       "  <tbody>\n",
       "    <tr>\n",
       "      <th>0</th>\n",
       "      <td>4.53</td>\n",
       "      <td>4.51</td>\n",
       "    </tr>\n",
       "    <tr>\n",
       "      <th>1</th>\n",
       "      <td>5.05</td>\n",
       "      <td>4.98</td>\n",
       "    </tr>\n",
       "    <tr>\n",
       "      <th>2</th>\n",
       "      <td>5.18</td>\n",
       "      <td>5.41</td>\n",
       "    </tr>\n",
       "    <tr>\n",
       "      <th>3</th>\n",
       "      <td>5.41</td>\n",
       "      <td>5.90</td>\n",
       "    </tr>\n",
       "    <tr>\n",
       "      <th>4</th>\n",
       "      <td>5.42</td>\n",
       "      <td>6.15</td>\n",
       "    </tr>\n",
       "  </tbody>\n",
       "</table>\n",
       "</div>"
      ],
      "text/plain": [
       "   ozone_normal  ozone_enriched\n",
       "0          4.53            4.51\n",
       "1          5.05            4.98\n",
       "2          5.18            5.41\n",
       "3          5.41            5.90\n",
       "4          5.42            6.15"
      ]
     },
     "execution_count": 132,
     "metadata": {},
     "output_type": "execute_result"
    }
   ],
   "source": [
    "import pandas as pd\n",
    "sample1 = pydata1.loc[pydata1['ozone']=='normal']['logsize'][:325].to_numpy()\n",
    "sample2 = pydata1.loc[pydata1['ozone']=='enriched']['logsize'][:325].to_numpy()\n",
    "\n",
    "sample = pd.DataFrame({'ozone_normal':sample1,'ozone_enriched':sample2})\n",
    "sample.head()"
   ]
  },
  {
   "cell_type": "code",
   "execution_count": 139,
   "id": "cef3d032",
   "metadata": {},
   "outputs": [
    {
     "data": {
      "text/html": [
       "<div>\n",
       "<style scoped>\n",
       "    .dataframe tbody tr th:only-of-type {\n",
       "        vertical-align: middle;\n",
       "    }\n",
       "\n",
       "    .dataframe tbody tr th {\n",
       "        vertical-align: top;\n",
       "    }\n",
       "\n",
       "    .dataframe thead th {\n",
       "        text-align: right;\n",
       "    }\n",
       "</style>\n",
       "<table border=\"1\" class=\"dataframe\">\n",
       "  <thead>\n",
       "    <tr style=\"text-align: right;\">\n",
       "      <th></th>\n",
       "      <th>ozone_normal</th>\n",
       "      <th>ozone_enriched</th>\n",
       "    </tr>\n",
       "  </thead>\n",
       "  <tbody>\n",
       "    <tr>\n",
       "      <th>50</th>\n",
       "      <td>6.82</td>\n",
       "      <td>6.20</td>\n",
       "    </tr>\n",
       "    <tr>\n",
       "      <th>51</th>\n",
       "      <td>6.76</td>\n",
       "      <td>6.19</td>\n",
       "    </tr>\n",
       "    <tr>\n",
       "      <th>52</th>\n",
       "      <td>4.00</td>\n",
       "      <td>4.34</td>\n",
       "    </tr>\n",
       "    <tr>\n",
       "      <th>53</th>\n",
       "      <td>4.50</td>\n",
       "      <td>4.95</td>\n",
       "    </tr>\n",
       "    <tr>\n",
       "      <th>54</th>\n",
       "      <td>4.92</td>\n",
       "      <td>5.42</td>\n",
       "    </tr>\n",
       "    <tr>\n",
       "      <th>55</th>\n",
       "      <td>5.44</td>\n",
       "      <td>5.97</td>\n",
       "    </tr>\n",
       "    <tr>\n",
       "      <th>56</th>\n",
       "      <td>5.87</td>\n",
       "      <td>6.28</td>\n",
       "    </tr>\n",
       "    <tr>\n",
       "      <th>57</th>\n",
       "      <td>6.02</td>\n",
       "      <td>6.50</td>\n",
       "    </tr>\n",
       "    <tr>\n",
       "      <th>58</th>\n",
       "      <td>6.04</td>\n",
       "      <td>6.50</td>\n",
       "    </tr>\n",
       "    <tr>\n",
       "      <th>59</th>\n",
       "      <td>6.11</td>\n",
       "      <td>6.79</td>\n",
       "    </tr>\n",
       "    <tr>\n",
       "      <th>60</th>\n",
       "      <td>6.47</td>\n",
       "      <td>6.83</td>\n",
       "    </tr>\n",
       "    <tr>\n",
       "      <th>61</th>\n",
       "      <td>6.61</td>\n",
       "      <td>7.10</td>\n",
       "    </tr>\n",
       "    <tr>\n",
       "      <th>62</th>\n",
       "      <td>6.66</td>\n",
       "      <td>7.17</td>\n",
       "    </tr>\n",
       "    <tr>\n",
       "      <th>63</th>\n",
       "      <td>6.70</td>\n",
       "      <td>7.21</td>\n",
       "    </tr>\n",
       "    <tr>\n",
       "      <th>64</th>\n",
       "      <td>6.65</td>\n",
       "      <td>7.16</td>\n",
       "    </tr>\n",
       "    <tr>\n",
       "      <th>65</th>\n",
       "      <td>4.73</td>\n",
       "      <td>4.59</td>\n",
       "    </tr>\n",
       "    <tr>\n",
       "      <th>66</th>\n",
       "      <td>5.05</td>\n",
       "      <td>5.08</td>\n",
       "    </tr>\n",
       "    <tr>\n",
       "      <th>67</th>\n",
       "      <td>5.33</td>\n",
       "      <td>5.36</td>\n",
       "    </tr>\n",
       "    <tr>\n",
       "      <th>68</th>\n",
       "      <td>5.92</td>\n",
       "      <td>5.76</td>\n",
       "    </tr>\n",
       "    <tr>\n",
       "      <th>69</th>\n",
       "      <td>6.01</td>\n",
       "      <td>6.00</td>\n",
       "    </tr>\n",
       "    <tr>\n",
       "      <th>70</th>\n",
       "      <td>6.26</td>\n",
       "      <td>6.33</td>\n",
       "    </tr>\n",
       "    <tr>\n",
       "      <th>71</th>\n",
       "      <td>6.26</td>\n",
       "      <td>6.34</td>\n",
       "    </tr>\n",
       "    <tr>\n",
       "      <th>72</th>\n",
       "      <td>6.36</td>\n",
       "      <td>6.39</td>\n",
       "    </tr>\n",
       "    <tr>\n",
       "      <th>73</th>\n",
       "      <td>6.49</td>\n",
       "      <td>6.78</td>\n",
       "    </tr>\n",
       "    <tr>\n",
       "      <th>74</th>\n",
       "      <td>6.63</td>\n",
       "      <td>6.91</td>\n",
       "    </tr>\n",
       "    <tr>\n",
       "      <th>75</th>\n",
       "      <td>6.92</td>\n",
       "      <td>6.99</td>\n",
       "    </tr>\n",
       "    <tr>\n",
       "      <th>76</th>\n",
       "      <td>6.92</td>\n",
       "      <td>7.01</td>\n",
       "    </tr>\n",
       "    <tr>\n",
       "      <th>77</th>\n",
       "      <td>6.92</td>\n",
       "      <td>7.05</td>\n",
       "    </tr>\n",
       "    <tr>\n",
       "      <th>78</th>\n",
       "      <td>5.15</td>\n",
       "      <td>4.41</td>\n",
       "    </tr>\n",
       "    <tr>\n",
       "      <th>79</th>\n",
       "      <td>5.63</td>\n",
       "      <td>4.56</td>\n",
       "    </tr>\n",
       "    <tr>\n",
       "      <th>80</th>\n",
       "      <td>6.11</td>\n",
       "      <td>4.95</td>\n",
       "    </tr>\n",
       "    <tr>\n",
       "      <th>81</th>\n",
       "      <td>6.39</td>\n",
       "      <td>5.23</td>\n",
       "    </tr>\n",
       "    <tr>\n",
       "      <th>82</th>\n",
       "      <td>6.61</td>\n",
       "      <td>5.33</td>\n",
       "    </tr>\n",
       "    <tr>\n",
       "      <th>83</th>\n",
       "      <td>6.82</td>\n",
       "      <td>6.13</td>\n",
       "    </tr>\n",
       "    <tr>\n",
       "      <th>84</th>\n",
       "      <td>6.82</td>\n",
       "      <td>6.14</td>\n",
       "    </tr>\n",
       "    <tr>\n",
       "      <th>85</th>\n",
       "      <td>6.95</td>\n",
       "      <td>6.36</td>\n",
       "    </tr>\n",
       "    <tr>\n",
       "      <th>86</th>\n",
       "      <td>7.11</td>\n",
       "      <td>6.57</td>\n",
       "    </tr>\n",
       "    <tr>\n",
       "      <th>87</th>\n",
       "      <td>7.44</td>\n",
       "      <td>6.78</td>\n",
       "    </tr>\n",
       "    <tr>\n",
       "      <th>88</th>\n",
       "      <td>7.53</td>\n",
       "      <td>6.82</td>\n",
       "    </tr>\n",
       "    <tr>\n",
       "      <th>89</th>\n",
       "      <td>7.46</td>\n",
       "      <td>6.81</td>\n",
       "    </tr>\n",
       "    <tr>\n",
       "      <th>90</th>\n",
       "      <td>7.56</td>\n",
       "      <td>6.86</td>\n",
       "    </tr>\n",
       "    <tr>\n",
       "      <th>91</th>\n",
       "      <td>4.10</td>\n",
       "      <td>4.24</td>\n",
       "    </tr>\n",
       "    <tr>\n",
       "      <th>92</th>\n",
       "      <td>4.46</td>\n",
       "      <td>4.64</td>\n",
       "    </tr>\n",
       "    <tr>\n",
       "      <th>93</th>\n",
       "      <td>4.84</td>\n",
       "      <td>4.95</td>\n",
       "    </tr>\n",
       "    <tr>\n",
       "      <th>94</th>\n",
       "      <td>5.29</td>\n",
       "      <td>5.38</td>\n",
       "    </tr>\n",
       "    <tr>\n",
       "      <th>95</th>\n",
       "      <td>5.48</td>\n",
       "      <td>5.48</td>\n",
       "    </tr>\n",
       "    <tr>\n",
       "      <th>96</th>\n",
       "      <td>5.68</td>\n",
       "      <td>5.61</td>\n",
       "    </tr>\n",
       "    <tr>\n",
       "      <th>97</th>\n",
       "      <td>5.68</td>\n",
       "      <td>5.63</td>\n",
       "    </tr>\n",
       "    <tr>\n",
       "      <th>98</th>\n",
       "      <td>5.85</td>\n",
       "      <td>5.82</td>\n",
       "    </tr>\n",
       "    <tr>\n",
       "      <th>99</th>\n",
       "      <td>5.99</td>\n",
       "      <td>6.18</td>\n",
       "    </tr>\n",
       "  </tbody>\n",
       "</table>\n",
       "</div>"
      ],
      "text/plain": [
       "    ozone_normal  ozone_enriched\n",
       "50          6.82            6.20\n",
       "51          6.76            6.19\n",
       "52          4.00            4.34\n",
       "53          4.50            4.95\n",
       "54          4.92            5.42\n",
       "55          5.44            5.97\n",
       "56          5.87            6.28\n",
       "57          6.02            6.50\n",
       "58          6.04            6.50\n",
       "59          6.11            6.79\n",
       "60          6.47            6.83\n",
       "61          6.61            7.10\n",
       "62          6.66            7.17\n",
       "63          6.70            7.21\n",
       "64          6.65            7.16\n",
       "65          4.73            4.59\n",
       "66          5.05            5.08\n",
       "67          5.33            5.36\n",
       "68          5.92            5.76\n",
       "69          6.01            6.00\n",
       "70          6.26            6.33\n",
       "71          6.26            6.34\n",
       "72          6.36            6.39\n",
       "73          6.49            6.78\n",
       "74          6.63            6.91\n",
       "75          6.92            6.99\n",
       "76          6.92            7.01\n",
       "77          6.92            7.05\n",
       "78          5.15            4.41\n",
       "79          5.63            4.56\n",
       "80          6.11            4.95\n",
       "81          6.39            5.23\n",
       "82          6.61            5.33\n",
       "83          6.82            6.13\n",
       "84          6.82            6.14\n",
       "85          6.95            6.36\n",
       "86          7.11            6.57\n",
       "87          7.44            6.78\n",
       "88          7.53            6.82\n",
       "89          7.46            6.81\n",
       "90          7.56            6.86\n",
       "91          4.10            4.24\n",
       "92          4.46            4.64\n",
       "93          4.84            4.95\n",
       "94          5.29            5.38\n",
       "95          5.48            5.48\n",
       "96          5.68            5.61\n",
       "97          5.68            5.63\n",
       "98          5.85            5.82\n",
       "99          5.99            6.18"
      ]
     },
     "execution_count": 139,
     "metadata": {},
     "output_type": "execute_result"
    }
   ],
   "source": [
    "sample.iloc[50:100]"
   ]
  },
  {
   "cell_type": "code",
   "execution_count": 130,
   "id": "686f96d5",
   "metadata": {},
   "outputs": [
    {
     "name": "stdout",
     "output_type": "stream",
     "text": [
      "\n",
      "Paired t-test \n",
      "\n",
      "------------------  -------------\n",
      "Sample size         325\n",
      "Difference Mean       0.288492\n",
      "t                     5.56756\n",
      "Df                  324\n",
      "p value (one-tail)    2.71361e-08\n",
      "p value (two-tail)    5.42723e-08\n",
      "Lower 95.0%           0.186553\n",
      "Upper 95.0%           0.390432\n",
      "------------------  -------------\n"
     ]
    }
   ],
   "source": [
    "res = stat()\n",
    "res.ttest(df=sample, res=['ozone_normal', 'ozone_enriched'], test_type=3)\n",
    "print(res.summary)"
   ]
  },
  {
   "cell_type": "code",
   "execution_count": 131,
   "id": "f830c0eb",
   "metadata": {},
   "outputs": [
    {
     "data": {
      "text/plain": [
       "(5.567556807738851, 5.427227519758656e-08)"
      ]
     },
     "execution_count": 131,
     "metadata": {},
     "output_type": "execute_result"
    }
   ],
   "source": [
    "t, p = res.result[1], res.result[3]\n",
    "t, p"
   ]
  },
  {
   "cell_type": "markdown",
   "id": "d81f9309",
   "metadata": {},
   "source": [
    "Interpretation\n",
    "\n",
    "The p value obtained from the t-test is significant (p < 0.05), and therefore, <br>\n",
    "we conclude that the \"logsize\" of plants is significantly increased after the ozone enrichment"
   ]
  },
  {
   "cell_type": "code",
   "execution_count": null,
   "id": "727913b5",
   "metadata": {},
   "outputs": [],
   "source": []
  }
 ],
 "metadata": {
  "kernelspec": {
   "display_name": "Python 3 (ipykernel)",
   "language": "python",
   "name": "python3"
  },
  "language_info": {
   "codemirror_mode": {
    "name": "ipython",
    "version": 3
   },
   "file_extension": ".py",
   "mimetype": "text/x-python",
   "name": "python",
   "nbconvert_exporter": "python",
   "pygments_lexer": "ipython3",
   "version": "3.10.7"
  }
 },
 "nbformat": 4,
 "nbformat_minor": 5
}
