{
 "cells": [
  {
   "cell_type": "markdown",
   "id": "27d4d976",
   "metadata": {},
   "source": [
    "### 4.2 Missing data: impact on base statistics & distribution analysis; methods to complete missing data"
   ]
  },
  {
   "cell_type": "code",
   "execution_count": 2,
   "id": "03a433ca",
   "metadata": {},
   "outputs": [],
   "source": [
    "import numpy as np\n",
    "import matplotlib.pyplot as plt\n",
    "from scipy.stats import chi2"
   ]
  },
  {
   "cell_type": "markdown",
   "id": "4ff84e3a",
   "metadata": {},
   "source": [
    "#### 1. Data Source:\n",
    "- The Task 4.2 data source is a simple random sample of independent chi-squared (identically) distributed random variables\n",
    "- $X \\equiv Exp(\\lambda), \\lambda = 0.7$"
   ]
  },
  {
   "cell_type": "markdown",
   "id": "b2a7a91d",
   "metadata": {},
   "source": [
    "##### 2. Research purpose:\n",
    "\n",
    "1. Show impact of missing data on base statistics\n",
    "2. Perform distribution analysis on a regular dataset vs a dataset with missing data (that impacts base statictics on a high signifficance level); Compare the results\n",
    "3. Describe most common methods used to complete missing data"
   ]
  },
  {
   "cell_type": "markdown",
   "id": "4e5a17bf",
   "metadata": {},
   "source": [
    "##### 3. Model definition:\n",
    "Model: $(X,\\{P_{n}, n \\in N\\})$:\n",
    "   - X = $[ 0, +\\infty)$\n",
    "   - $n = 3$; $N = \\mathbb{N}$\n",
    "   - $P_{n} \\equiv \\chi^2\\space(n)$"
   ]
  },
  {
   "cell_type": "code",
   "execution_count": 129,
   "id": "6933b965",
   "metadata": {},
   "outputs": [],
   "source": [
    "n = 3"
   ]
  },
  {
   "cell_type": "code",
   "execution_count": 130,
   "id": "1e24f12f",
   "metadata": {},
   "outputs": [],
   "source": [
    "def X(k):\n",
    "    global n\n",
    "    return chi2.rvs(n,size=k)"
   ]
  },
  {
   "cell_type": "code",
   "execution_count": 175,
   "id": "fd02ef1f",
   "metadata": {},
   "outputs": [
    {
     "data": {
      "image/png": "[encoded data removed]",
      "text/plain": [
       "<Figure size 500x300 with 1 Axes>"
      ]
     },
     "metadata": {},
     "output_type": "display_data"
    },
    {
     "name": "stdout",
     "output_type": "stream",
     "text": [
      "mean = 3.0254884286049815\n",
      "var = 6.007971916210981\n"
     ]
    }
   ],
   "source": [
    "n = 3\n",
    "size=10000\n",
    "sample=X(size)\n",
    "def distribution_hist(sample):\n",
    "    plt.hist(sample,bins=80,density=True,label=\"chi2\")\n",
    "    plt.xlim((-1,15))\n",
    "    plt.ylim((0,0.5))\n",
    "    plt.legend()\n",
    "    plt.title(\"Sample X distribution\")\n",
    "    plt.gcf().set_size_inches((5,3))\n",
    "    plt.show()\n",
    "\n",
    "    print(\"mean =\",sample.mean())\n",
    "    print(\"var =\",sample.std()**2)\n",
    "distribution_hist(sample)"
   ]
  },
  {
   "cell_type": "code",
   "execution_count": 176,
   "id": "6c50c650",
   "metadata": {},
   "outputs": [],
   "source": [
    "def corrupt_data(sample,fun):\n",
    "    #fun = function of sample & element index\n",
    "    return np.array([fun(sample,i) for i in range(len(sample))],dtype=float)"
   ]
  },
  {
   "cell_type": "code",
   "execution_count": 179,
   "id": "71ddc493",
   "metadata": {},
   "outputs": [
    {
     "data": {
      "image/png": "[encoded data removed]",
      "text/plain": [
       "<Figure size 500x300 with 1 Axes>"
      ]
     },
     "metadata": {},
     "output_type": "display_data"
    },
    {
     "name": "stdout",
     "output_type": "stream",
     "text": [
      "mean = 3.1563505362765736\n",
      "var = 5.625343083337859\n"
     ]
    }
   ],
   "source": [
    "from random import random\n",
    "#replace every 10th element with random noise\n",
    "replace_mod10_with_random_noise=lambda sample,i: sample[i] if i%10!=0 else sample.mean()+abs(random())*sample.std()\n",
    "\n",
    "samp1=corrupt_data(sample,replace_mod10_with_random_noise) \n",
    "distribution_hist(samp1)"
   ]
  },
  {
   "cell_type": "code",
   "execution_count": 148,
   "id": "e82a484d",
   "metadata": {},
   "outputs": [
    {
     "ename": "SyntaxError",
     "evalue": "invalid syntax (2022905617.py, line 1)",
     "output_type": "error",
     "traceback": [
      "\u001b[1;36m  Cell \u001b[1;32mIn [148], line 1\u001b[1;36m\u001b[0m\n\u001b[1;33m    samp1.\u001b[0m\n\u001b[1;37m          ^\u001b[0m\n\u001b[1;31mSyntaxError\u001b[0m\u001b[1;31m:\u001b[0m invalid syntax\n"
     ]
    }
   ],
   "source": [
    "samp1."
   ]
  },
  {
   "cell_type": "code",
   "execution_count": null,
   "id": "64027eed",
   "metadata": {},
   "outputs": [],
   "source": []
  }
 ],
 "metadata": {
  "kernelspec": {
   "display_name": "Python 3 (ipykernel)",
   "language": "python",
   "name": "python3"
  },
  "language_info": {
   "codemirror_mode": {
    "name": "ipython",
    "version": 3
   },
   "file_extension": ".py",
   "mimetype": "text/x-python",
   "name": "python",
   "nbconvert_exporter": "python",
   "pygments_lexer": "ipython3",
   "version": "3.10.7"
  }
 },
 "nbformat": 4,
 "nbformat_minor": 5
}
