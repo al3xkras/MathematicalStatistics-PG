{
 "cells": [
  {
   "cell_type": "markdown",
   "id": "27d4d976",
   "metadata": {},
   "source": [
    "### 4.2 Missing data: impact on base statistics & distribution analysis; methods to complete missing data"
   ]
  },
  {
   "cell_type": "code",
   "execution_count": 75,
   "id": "03a433ca",
   "metadata": {},
   "outputs": [],
   "source": [
    "import numpy as np\n",
    "import pandas as pd\n",
    "import matplotlib.pyplot as plt\n",
    "np.random.seed(seed=39402270)\n",
    "from scipy.stats import chi2\n",
    "from IPython.display import display\n",
    "\n",
    "from pydataset import data\n"
   ]
  },
  {
   "cell_type": "code",
   "execution_count": 76,
   "id": "44115077",
   "metadata": {},
   "outputs": [
    {
     "data": {
      "text/html": [
       "<div>\n",
       "<style scoped>\n",
       "    .dataframe tbody tr th:only-of-type {\n",
       "        vertical-align: middle;\n",
       "    }\n",
       "\n",
       "    .dataframe tbody tr th {\n",
       "        vertical-align: top;\n",
       "    }\n",
       "\n",
       "    .dataframe thead th {\n",
       "        text-align: right;\n",
       "    }\n",
       "</style>\n",
       "<table border=\"1\" class=\"dataframe\">\n",
       "  <thead>\n",
       "    <tr style=\"text-align: right;\">\n",
       "      <th></th>\n",
       "      <th>dataset_id</th>\n",
       "      <th>title</th>\n",
       "    </tr>\n",
       "  </thead>\n",
       "  <tbody>\n",
       "    <tr>\n",
       "      <th>0</th>\n",
       "      <td>AirPassengers</td>\n",
       "      <td>Monthly Airline Passenger Numbers 1949-1960</td>\n",
       "    </tr>\n",
       "    <tr>\n",
       "      <th>1</th>\n",
       "      <td>BJsales</td>\n",
       "      <td>Sales Data with Leading Indicator</td>\n",
       "    </tr>\n",
       "    <tr>\n",
       "      <th>2</th>\n",
       "      <td>BOD</td>\n",
       "      <td>Biochemical Oxygen Demand</td>\n",
       "    </tr>\n",
       "    <tr>\n",
       "      <th>3</th>\n",
       "      <td>Formaldehyde</td>\n",
       "      <td>Determination of Formaldehyde</td>\n",
       "    </tr>\n",
       "    <tr>\n",
       "      <th>4</th>\n",
       "      <td>HairEyeColor</td>\n",
       "      <td>Hair and Eye Color of Statistics Students</td>\n",
       "    </tr>\n",
       "  </tbody>\n",
       "</table>\n",
       "</div>"
      ],
      "text/plain": [
       "      dataset_id                                        title\n",
       "0  AirPassengers  Monthly Airline Passenger Numbers 1949-1960\n",
       "1        BJsales            Sales Data with Leading Indicator\n",
       "2            BOD                    Biochemical Oxygen Demand\n",
       "3   Formaldehyde                Determination of Formaldehyde\n",
       "4   HairEyeColor    Hair and Eye Color of Statistics Students"
      ]
     },
     "execution_count": 76,
     "metadata": {},
     "output_type": "execute_result"
    }
   ],
   "source": [
    "#available datasets\n",
    "data().head()"
   ]
  },
  {
   "cell_type": "markdown",
   "id": "4ff84e3a",
   "metadata": {},
   "source": [
    "#### 1. Data Source:\n",
    "- The Task 4.2 data source is:\n",
    "  1. (Example 1): A simple random sample of independent chi-squared (identically) distributed random variables\n",
    "     - $X \\equiv \\chi^2(n), n = 3$\n",
    "     - size: 100000\n",
    "  2. (Example 2): \n",
    "     - pydataset (WWWusage) - Internet Usage per Minute\n",
    "  3. (Example 3):\n",
    "     - pydataset (nottem) - Average Monthly Temperatures at Nottingham, 1920-1939"
   ]
  },
  {
   "cell_type": "code",
   "execution_count": 77,
   "id": "f3550bc9",
   "metadata": {},
   "outputs": [],
   "source": [
    "n=3\n",
    "data1=chi2.rvs(n,size=2000)\n",
    "data2=data(\"WWWusage\")\n",
    "data3=data(\"nottem\")"
   ]
  },
  {
   "cell_type": "markdown",
   "id": "22d732f0",
   "metadata": {},
   "source": [
    "##### 2. Distribution analysis:"
   ]
  },
  {
   "cell_type": "code",
   "execution_count": 78,
   "id": "0f806ee5",
   "metadata": {},
   "outputs": [],
   "source": [
    "def distribution_hist(sample,title=\"\",label=\"\",figsize=(5,3)):\n",
    "    plt.hist(sample,bins=80,density=True,label=label)\n",
    "    plt.xlim((-1,15))\n",
    "    plt.ylim((0,0.5))\n",
    "    if label:\n",
    "        plt.legend()\n",
    "    plt.title(title)\n",
    "    plt.gcf().set_size_inches(figsize)\n",
    "    plt.show()\n",
    "\n",
    "    print(\"mean =\",sample.mean())\n",
    "    print(\"var =\",sample.std()**2)"
   ]
  },
  {
   "cell_type": "code",
   "execution_count": 79,
   "id": "046a5b02",
   "metadata": {},
   "outputs": [
    {
     "data": {
      "image/png": "[encoded data removed]",
      "text/plain": [
       "<Figure size 500x220 with 1 Axes>"
      ]
     },
     "metadata": {},
     "output_type": "display_data"
    },
    {
     "name": "stdout",
     "output_type": "stream",
     "text": [
      "mean = 3.0162959153759736\n",
      "var = 6.290693820125053\n"
     ]
    }
   ],
   "source": [
    "distribution_hist(data1,label=\"data1\",title=\"data1 PDF\",figsize=(5,2.2))"
   ]
  },
  {
   "cell_type": "code",
   "execution_count": 80,
   "id": "defbb3b3",
   "metadata": {},
   "outputs": [
    {
     "name": "stdout",
     "output_type": "stream",
     "text": [
      "data2\n",
      "<class 'pandas.core.frame.DataFrame'>\n",
      "Int64Index: 100 entries, 1 to 100\n",
      "Data columns (total 2 columns):\n",
      " #   Column    Non-Null Count  Dtype\n",
      "---  ------    --------------  -----\n",
      " 0   time      100 non-null    int64\n",
      " 1   WWWusage  100 non-null    int64\n",
      "dtypes: int64(2)\n",
      "memory usage: 2.3 KB\n"
     ]
    },
    {
     "data": {
      "text/plain": [
       "None"
      ]
     },
     "metadata": {},
     "output_type": "display_data"
    },
    {
     "data": {
      "text/plain": [
       "'mean: 137.08'"
      ]
     },
     "metadata": {},
     "output_type": "display_data"
    },
    {
     "data": {
      "text/plain": [
       "'std: 39.9994141371237'"
      ]
     },
     "metadata": {},
     "output_type": "display_data"
    },
    {
     "name": "stdout",
     "output_type": "stream",
     "text": [
      "\n",
      "\n",
      "data3\n",
      "<class 'pandas.core.frame.DataFrame'>\n",
      "Int64Index: 240 entries, 1 to 240\n",
      "Data columns (total 2 columns):\n",
      " #   Column  Non-Null Count  Dtype  \n",
      "---  ------  --------------  -----  \n",
      " 0   time    240 non-null    float64\n",
      " 1   nottem  240 non-null    float64\n",
      "dtypes: float64(2)\n",
      "memory usage: 5.6 KB\n"
     ]
    },
    {
     "data": {
      "text/plain": [
       "None"
      ]
     },
     "metadata": {},
     "output_type": "display_data"
    },
    {
     "data": {
      "text/plain": [
       "'mean: 49.03958333333333'"
      ]
     },
     "metadata": {},
     "output_type": "display_data"
    },
    {
     "data": {
      "text/plain": [
       "'std: 8.57232434031383'"
      ]
     },
     "metadata": {},
     "output_type": "display_data"
    }
   ],
   "source": [
    "print(\"data2\")\n",
    "display(data2.info())\n",
    "display(\"mean: \"+str(data2['WWWusage'].mean()))\n",
    "display(\"std: \"+str(data2['WWWusage'].std()))\n",
    "\n",
    "print(\"\\n\\ndata3\")\n",
    "display(data3.info())\n",
    "display(\"mean: \"+str(data3['nottem'].mean()))\n",
    "display(\"std: \"+str(data3['nottem'].std()))\n"
   ]
  },
  {
   "cell_type": "code",
   "execution_count": 81,
   "id": "c980bb90",
   "metadata": {},
   "outputs": [],
   "source": [
    "col2=\"WWWusage\"\n",
    "col3=\"nottem\""
   ]
  },
  {
   "cell_type": "code",
   "execution_count": 82,
   "id": "b5448f62",
   "metadata": {},
   "outputs": [
    {
     "data": {
      "image/png": "[encoded data removed]",
      "text/plain": [
       "<Figure size 640x480 with 1 Axes>"
      ]
     },
     "metadata": {},
     "output_type": "display_data"
    }
   ],
   "source": [
    "plt.hist(data2[col2],bins=40,density=True)\n",
    "plt.show()"
   ]
  },
  {
   "cell_type": "code",
   "execution_count": 83,
   "id": "d7efd38e",
   "metadata": {},
   "outputs": [
    {
     "data": {
      "image/png": "[encoded data removed]",
      "text/plain": [
       "<Figure size 640x480 with 1 Axes>"
      ]
     },
     "metadata": {},
     "output_type": "display_data"
    }
   ],
   "source": [
    "plt.hist(data3[col3],bins=50,density=True)\n",
    "plt.show()"
   ]
  },
  {
   "cell_type": "markdown",
   "id": "b2a7a91d",
   "metadata": {},
   "source": [
    "##### 2. Research purpose:\n",
    "- Example 1:\n",
    "    1. Show impact of missing data on base statistics (when the distribution of the data is known)\n",
    "    2. Choose methods to complete missing data\n",
    "    3. Perform distribution analysis on the initial dataset vs a dataset with missing data, that was filled; Compare the results\n",
    "- Examples 2 & 3: (the distribution of the data is unknown)\n",
    "    1. Choose different methods to complete the missing data \n",
    "        - The goal is to fill in the missing data with minimum impact on the sample distribution\n",
    "    2. Fill in the data, display base statistics values\n",
    "    3. Choose methods that fill the missing data with minimum impact on its distribution function\n",
    "    4. Conclusions\n"
   ]
  },
  {
   "cell_type": "markdown",
   "id": "6acf1e2e",
   "metadata": {},
   "source": [
    "##### Example 1:  Model definition:\n",
    "Model: $(X,\\{P_{n}, n \\in N\\})$:\n",
    "   - X = $[ 0, +\\infty)$\n",
    "   - $n = 3$; $N = \\mathbb{N}$\n",
    "   - $P_{n} \\equiv \\chi^2\\space(n)$"
   ]
  },
  {
   "cell_type": "markdown",
   "id": "4e5a17bf",
   "metadata": {},
   "source": [
    "##### Example 2:  Model definition:\n",
    "Model: $(X,\\{P_\\theta, \\theta \\in \\Theta\\})$:\n",
    "   - $\\text{X: sample values}$\n",
    "   - $\\theta - ?, \\Theta - ?$\n",
    "   - $P_\\theta: \\text{empirical CDF}$"
   ]
  },
  {
   "cell_type": "markdown",
   "id": "d517c3bd",
   "metadata": {},
   "source": [
    "##### Example 2:  Model definition:\n",
    "Model: $(X,\\{P_\\theta, \\theta \\in \\Theta\\})$:\n",
    "   - $\\text{X: sample values}$\n",
    "   - $\\theta - ?, \\Theta - ?$\n",
    "   - $P_\\theta: \\text{empirical CDF}$"
   ]
  },
  {
   "cell_type": "code",
   "execution_count": 84,
   "id": "6933b965",
   "metadata": {},
   "outputs": [],
   "source": [
    "n = 3"
   ]
  },
  {
   "cell_type": "code",
   "execution_count": 85,
   "id": "6c50c650",
   "metadata": {},
   "outputs": [],
   "source": [
    "#apply function to all sample elements\n",
    "def corrupt_data(sample,fun):\n",
    "    #fun = function of sample & element index\n",
    "    return np.array([fun(sample,i) for i in range(len(sample))],dtype=float)"
   ]
  },
  {
   "cell_type": "code",
   "execution_count": 86,
   "id": "71ddc493",
   "metadata": {},
   "outputs": [
    {
     "data": {
      "image/png": "[encoded data removed]",
      "text/plain": [
       "<Figure size 500x300 with 1 Axes>"
      ]
     },
     "metadata": {},
     "output_type": "display_data"
    },
    {
     "name": "stdout",
     "output_type": "stream",
     "text": [
      "mean = 3.1994360002949565\n",
      "var = 7.029876068726041\n",
      "null values count: 578\n"
     ]
    }
   ],
   "source": [
    "from random import random\n",
    "fun1=lambda sample,i: sample[i] if not len(sample)//4<i<len(sample)//2 else None\n",
    "fun2=lambda sample,i: sample[i] if not len(sample)//25*23<i<len(sample)//25*24 else None\n",
    "data1missing=corrupt_data(corrupt_data(sorted(data1),fun1),fun2)\n",
    "null_count=sum(np.isnan(data1missing))\n",
    "data1missing_nonnull=data1missing[~np.isnan(data1missing)]\n",
    "distribution_hist(data1missing_nonnull,label=\"data 1 with missing values\")\n",
    "print(\"null values count:\",null_count)"
   ]
  },
  {
   "cell_type": "markdown",
   "id": "25727929",
   "metadata": {},
   "source": [
    "Below a brief description of the methods that are used for filling in the missing data is provided:\n",
    "- Mean imputation: replace null values with the sample mean\n",
    "- Interpolation: based on the definition of a polynomial of natural order n which contains a given set of points (x1,y1), (x2,y2), ..., (x_n, y_n); (a certain point can be chosen as follows: (x = a particular value of the sample, y = count of values equal to x (with specified precision eps))\n",
    "- Linear interpolation: equivalent to the Interpolation method, where polynomial order is equal to 1;\n",
    "- Quadratic interpolation: similar definition to the previous method\n",
    "- Spline: A piecewise-defined polynomial is used, the idea is similar to the Interpolation method.\n",
    "- From_derivatives: \n",
    "    - description reference: https://pandas.pydata.org/docs/reference/api/pandas.DataFrame.interpolate.html\n",
    "    - Construct a piecewise polynomial in the Bernstein basis\n",
    "    - https://en.wikipedia.org/wiki/Bernstein_polynomial\n",
    "- Krogh interpolator:\n",
    "    - The polynomial passes through all the pairs (xi,yi). One may additionally specify a number of derivatives at each point xi; this is done by repeating the value xi and specifying the derivatives as successive yi values.\n",
    "    - https://docs.scipy.org/doc/scipy/reference/generated/scipy.interpolate.KroghInterpolator.html#scipy.interpolate.KroghInterpolator\n",
    "- Akima interpolator:\n",
    "    - Fit piecewise cubic polynomials, given vectors x and y. The interpolation method by Akima uses a continuously differentiable sub-spline built from piecewise cubic polynomials. The resultant curve passes through the given data points and will appear smooth and natural.\n",
    "    - https://docs.scipy.org/doc/scipy/reference/generated/scipy.interpolate.Akima1DInterpolator.html#scipy.interpolate.Akima1DInterpolator\n",
    "- Pad: Fill the missing values using existing values\n"
   ]
  },
  {
   "cell_type": "code",
   "execution_count": 87,
   "id": "d53973c5",
   "metadata": {},
   "outputs": [],
   "source": [
    "\n",
    "def mean_imputation(sample):\n",
    "    sample=pd.Series(sample)\n",
    "    return sample.fillna(sample.mean())\n",
    "\n",
    "def interpolation(sample,method='linear',kw={}):\n",
    "    sample=pd.Series(sample)\n",
    "    return sample.interpolate(method=method, limit_direction='forward', axis=0,**kw)\n",
    "\n",
    "def interpolation_linear(sample):\n",
    "    return interpolation(sample,method='linear')\n",
    "    "
   ]
  },
  {
   "cell_type": "code",
   "execution_count": 88,
   "id": "c36eee54",
   "metadata": {},
   "outputs": [],
   "source": [
    "#find missing values in a data vector:\n",
    "# for x_i, x_i+1 - dataset values, eps - precision\n",
    "# if |x_i+1-x_i|>eps, then between x_i, x_i+1 there are [|x_i+1-x_i|/eps] missing values to fill\n",
    "def find_missing_values(data:pd.Series,dtype=None,eps=1):\n",
    "    d=data.sort_values()\n",
    "    value_iter=None\n",
    "    new_arr=[]\n",
    "    \n",
    "    for val in d:\n",
    "        if val is None:\n",
    "            continue\n",
    "        if value_iter is None:\n",
    "            value_iter=val\n",
    "            new_arr.append(value_iter)\n",
    "            continue\n",
    "        if val-value_iter>eps:\n",
    "            new_arr+=[None]*int((val/eps-value_iter/eps-eps))\n",
    "        new_arr.append(val)\n",
    "        value_iter=val\n",
    "    return pd.Series(new_arr,dtype=dtype)"
   ]
  },
  {
   "cell_type": "code",
   "execution_count": 89,
   "id": "9a03a25e",
   "metadata": {},
   "outputs": [
    {
     "data": {
      "text/html": [
       "<div>\n",
       "<style scoped>\n",
       "    .dataframe tbody tr th:only-of-type {\n",
       "        vertical-align: middle;\n",
       "    }\n",
       "\n",
       "    .dataframe tbody tr th {\n",
       "        vertical-align: top;\n",
       "    }\n",
       "\n",
       "    .dataframe thead th {\n",
       "        text-align: right;\n",
       "    }\n",
       "</style>\n",
       "<table border=\"1\" class=\"dataframe\">\n",
       "  <thead>\n",
       "    <tr style=\"text-align: right;\">\n",
       "      <th></th>\n",
       "      <th>time</th>\n",
       "      <th>WWWusage</th>\n",
       "    </tr>\n",
       "  </thead>\n",
       "  <tbody>\n",
       "    <tr>\n",
       "      <th>1</th>\n",
       "      <td>1</td>\n",
       "      <td>88</td>\n",
       "    </tr>\n",
       "    <tr>\n",
       "      <th>2</th>\n",
       "      <td>2</td>\n",
       "      <td>84</td>\n",
       "    </tr>\n",
       "    <tr>\n",
       "      <th>3</th>\n",
       "      <td>3</td>\n",
       "      <td>85</td>\n",
       "    </tr>\n",
       "    <tr>\n",
       "      <th>4</th>\n",
       "      <td>4</td>\n",
       "      <td>85</td>\n",
       "    </tr>\n",
       "    <tr>\n",
       "      <th>5</th>\n",
       "      <td>5</td>\n",
       "      <td>84</td>\n",
       "    </tr>\n",
       "  </tbody>\n",
       "</table>\n",
       "</div>"
      ],
      "text/plain": [
       "   time  WWWusage\n",
       "1     1        88\n",
       "2     2        84\n",
       "3     3        85\n",
       "4     4        85\n",
       "5     5        84"
      ]
     },
     "execution_count": 89,
     "metadata": {},
     "output_type": "execute_result"
    }
   ],
   "source": [
    "data2.head()"
   ]
  },
  {
   "cell_type": "code",
   "execution_count": 90,
   "id": "0b60ce9b",
   "metadata": {},
   "outputs": [
    {
     "data": {
      "text/plain": [
       "0       83.0\n",
       "1       84.0\n",
       "2       84.0\n",
       "3       84.0\n",
       "4       84.0\n",
       "       ...  \n",
       "184      NaN\n",
       "185      NaN\n",
       "186    226.0\n",
       "187      NaN\n",
       "188    228.0\n",
       "Length: 189, dtype: float64"
      ]
     },
     "execution_count": 90,
     "metadata": {},
     "output_type": "execute_result"
    }
   ],
   "source": [
    "#epsilon=1 because [nottem] values are int values with precision 1\n",
    "data2missing=find_missing_values(data2[col2],eps=1)\n",
    "data2missing"
   ]
  },
  {
   "cell_type": "code",
   "execution_count": 91,
   "id": "ff9933a7",
   "metadata": {},
   "outputs": [
    {
     "data": {
      "text/html": [
       "<div>\n",
       "<style scoped>\n",
       "    .dataframe tbody tr th:only-of-type {\n",
       "        vertical-align: middle;\n",
       "    }\n",
       "\n",
       "    .dataframe tbody tr th {\n",
       "        vertical-align: top;\n",
       "    }\n",
       "\n",
       "    .dataframe thead th {\n",
       "        text-align: right;\n",
       "    }\n",
       "</style>\n",
       "<table border=\"1\" class=\"dataframe\">\n",
       "  <thead>\n",
       "    <tr style=\"text-align: right;\">\n",
       "      <th></th>\n",
       "      <th>time</th>\n",
       "      <th>nottem</th>\n",
       "    </tr>\n",
       "  </thead>\n",
       "  <tbody>\n",
       "    <tr>\n",
       "      <th>1</th>\n",
       "      <td>1920.000000</td>\n",
       "      <td>40.6</td>\n",
       "    </tr>\n",
       "    <tr>\n",
       "      <th>2</th>\n",
       "      <td>1920.083333</td>\n",
       "      <td>40.8</td>\n",
       "    </tr>\n",
       "    <tr>\n",
       "      <th>3</th>\n",
       "      <td>1920.166667</td>\n",
       "      <td>44.4</td>\n",
       "    </tr>\n",
       "    <tr>\n",
       "      <th>4</th>\n",
       "      <td>1920.250000</td>\n",
       "      <td>46.7</td>\n",
       "    </tr>\n",
       "    <tr>\n",
       "      <th>5</th>\n",
       "      <td>1920.333333</td>\n",
       "      <td>54.1</td>\n",
       "    </tr>\n",
       "  </tbody>\n",
       "</table>\n",
       "</div>"
      ],
      "text/plain": [
       "          time  nottem\n",
       "1  1920.000000    40.6\n",
       "2  1920.083333    40.8\n",
       "3  1920.166667    44.4\n",
       "4  1920.250000    46.7\n",
       "5  1920.333333    54.1"
      ]
     },
     "execution_count": 91,
     "metadata": {},
     "output_type": "execute_result"
    }
   ],
   "source": [
    "data3.head()"
   ]
  },
  {
   "cell_type": "code",
   "execution_count": 92,
   "id": "af906699",
   "metadata": {},
   "outputs": [],
   "source": [
    "#epsilon=0.1 because [nottem] values are float values with the precision 0.1\n",
    "data3missing=find_missing_values(data3[col3],eps=0.1)"
   ]
  },
  {
   "cell_type": "code",
   "execution_count": 93,
   "id": "50ce61e6",
   "metadata": {},
   "outputs": [],
   "source": [
    "from math import ceil\n",
    "#methods for filling in the missing data:\n",
    "methods = [\n",
    "    # linear interpolation (parameters: sample, additional arguments)\n",
    "    lambda data,args: interpolation_linear(data),\n",
    "    # mean imputation (parameters: sample, additional arguments)\n",
    "    lambda data,args: mean_imputation(data),\n",
    "    # regular interpolation (parameters: sample, additional arguments)\n",
    "    lambda data,args: interpolation(data,method='polynomial',kw=args),\n",
    "    # quadratic interpolation (parameters: sample, additional arguments)\n",
    "    lambda data,args: interpolation(data,method='quadratic'),\n",
    "    # spline interpolation (parameters: sample, additional arguments)\n",
    "    lambda data,args: interpolation(data,method='spline',kw=args),\n",
    "    # Bernstein polynomial interpolation (parameters: sample, additional arguments)\n",
    "    lambda data,args: interpolation(data,method='from_derivatives'),\n",
    "    # Krogh interpolation (parameters: sample, additional arguments)\n",
    "    lambda data,args: interpolation(data,method='nearest'),\n",
    "    # Akima interpolation (parameters: sample, additional arguments)\n",
    "    lambda data,args: interpolation(data,method='akima'),\n",
    "    # pad interpolation (parameters: sample, additional arguments)\n",
    "    lambda data,args: interpolation(data,method='pad')\n",
    "]\n",
    "sub_titles=[\n",
    "    \"linear interpolation\",\n",
    "    \"mean inputation\",\n",
    "    \"polynomial interpolation\",\n",
    "    \"quadratic interpolation\",\n",
    "    \"spline \",\n",
    "    \"from_derivatives\",\n",
    "    \"krogh\",\n",
    "    \"akima\",\n",
    "    \"pad\"\n",
    "]\n",
    "\n",
    "#matplotlib figures\n",
    "def get_figures(size,figsize):\n",
    "    fig,ax=plt.subplots(*size,figsize=figsize)\n",
    "    return fig,ax,ax.reshape(1,size[0]*size[1])\n",
    "\n",
    "#plot missing values fill methods\n",
    "def plot_mvals_fill_methods(data_mvals,title=\"\",figsize=(5,3),fontsize=6,skip=None,additional_args=None,hist_args=None):\n",
    "    # data: pd.Series that contains missing (None) values\n",
    "    global methods,sub_titles\n",
    "    if skip is None:\n",
    "        skip=dict()\n",
    "    if additional_args is None: additional_args=dict()\n",
    "    if hist_args is None: hist_args=dict()\n",
    "    s=ceil(len(methods)**0.5)\n",
    "    size=(s,s)\n",
    "    fig,_ax,ax_vector=get_figures(size,figsize)\n",
    "    plt.rc('font',size=fontsize)\n",
    "    ax_vector=ax_vector[0]\n",
    "    for i in range(len(methods)):\n",
    "        if i+1 in skip:\n",
    "            continue\n",
    "        args=additional_args.get(i+1,dict())\n",
    "        h_args=hist_args.get(i+1,{\"bins\":50})\n",
    "        fill=methods[i]\n",
    "        ttl=title+sub_titles[i]\n",
    "        ax=ax_vector[i]\n",
    "        plt.gcf()\n",
    "        X=fill(data_mvals,args)\n",
    "        ax.hist(X,label=\"filled values\",**h_args)\n",
    "        if 'color' in h_args:\n",
    "            del h_args['color']\n",
    "        ax.hist(data_mvals,label=\"data\",**h_args)\n",
    "        ax.set_xlabel(\"\",fontsize=fontsize)\n",
    "        ax.set_ylabel(\"\",fontsize=fontsize)\n",
    "        ax.set_title(ttl,fontsize=fontsize)\n",
    "        ax.legend()"
   ]
  },
  {
   "cell_type": "code",
   "execution_count": 94,
   "id": "f4caae52",
   "metadata": {},
   "outputs": [
    {
     "data": {
      "image/png": "[encoded data removed]",
      "text/plain": [
       "<Figure size 1500x900 with 9 Axes>"
      ]
     },
     "metadata": {},
     "output_type": "display_data"
    }
   ],
   "source": [
    "#Example 1\n",
    "c=\"red\"\n",
    "plot_mvals_fill_methods(data1missing,figsize=(15,9),title='data1 ',fontsize=8,additional_args={\n",
    "    3:{'order':2},\n",
    "    5:{'order':3}\n",
    "},hist_args={\n",
    "    1:{\"color\":c,\"bins\":50},\n",
    "    2:{\"color\":c,\"bins\":50},\n",
    "    3:{\"color\":c,\"bins\":50},\n",
    "    4:{\"color\":c,\"bins\":50},\n",
    "    5:{\"color\":c,\"bins\":50},\n",
    "    6:{\"color\":c,\"bins\":50},\n",
    "    7:{\"color\":c,\"bins\":50},\n",
    "    8:{\"color\":c,\"bins\":50},\n",
    "    9:{\"color\":c,\"bins\":50},\n",
    "})"
   ]
  },
  {
   "cell_type": "code",
   "execution_count": 95,
   "id": "5148c107",
   "metadata": {},
   "outputs": [
    {
     "data": {
      "image/png": "[encoded data removed]",
      "text/plain": [
       "<Figure size 1500x900 with 9 Axes>"
      ]
     },
     "metadata": {},
     "output_type": "display_data"
    }
   ],
   "source": [
    "#Example 2\n",
    "c=\"green\"\n",
    "plot_mvals_fill_methods(data2missing,figsize=(15,9),title='data2 ',fontsize=8,additional_args={\n",
    "    3:{'order':5},\n",
    "    5:{'order':3}\n",
    "},hist_args={\n",
    "    1:{\"color\":c,\"bins\":50},\n",
    "    2:{\"color\":c,\"bins\":15},\n",
    "    3:{\"color\":c,\"bins\":50},\n",
    "    4:{\"color\":c,\"bins\":50},\n",
    "    5:{\"color\":c,\"bins\":50},\n",
    "    6:{\"color\":c,\"bins\":50},\n",
    "    7:{\"color\":c,\"bins\":50},\n",
    "    8:{\"color\":c,\"bins\":50},\n",
    "    9:{\"color\":c,\"bins\":50},\n",
    "})"
   ]
  },
  {
   "cell_type": "code",
   "execution_count": 96,
   "id": "2e61ff48",
   "metadata": {},
   "outputs": [
    {
     "data": {
      "image/png": "[encoded data removed]",
      "text/plain": [
       "<Figure size 1500x900 with 9 Axes>"
      ]
     },
     "metadata": {},
     "output_type": "display_data"
    }
   ],
   "source": [
    "#Example 3\n",
    "c=\"purple\"\n",
    "plot_mvals_fill_methods(data3missing,figsize=(15,9),title='data3 ',fontsize=8,additional_args={\n",
    "    3:{'order':2},\n",
    "    5:{'order':3}\n",
    "},hist_args={\n",
    "    1:{\"color\":c,\"bins\":50},\n",
    "    2:{\"color\":c,\"bins\":15},\n",
    "    3:{\"color\":c,\"bins\":50},\n",
    "    4:{\"color\":c,\"bins\":50},\n",
    "    5:{\"color\":c,\"bins\":80},\n",
    "    6:{\"color\":c,\"bins\":50},\n",
    "    7:{\"color\":c,\"bins\":60},\n",
    "    8:{\"color\":c,\"bins\":70},\n",
    "    9:{\"color\":c,\"bins\":40},\n",
    "})"
   ]
  },
  {
   "cell_type": "markdown",
   "id": "c77582d8",
   "metadata": {},
   "source": [
    "The question arises: how to determine the best method for filling in the missing values for a particular dataset?"
   ]
  },
  {
   "cell_type": "markdown",
   "id": "fdddd52d",
   "metadata": {},
   "source": [
    "Below we define a set of methods that can be used to solve this problem\n",
    "- Comparison of base statistics (mean/variance/skewness/kurtosis/...)\n",
    "- Moments comparison (EX,EX^2,EX^3,...)\n",
    "- Differencing positional statistics\n",
    "- ...\n"
   ]
  },
  {
   "cell_type": "markdown",
   "id": "ebc45466",
   "metadata": {},
   "source": [
    "Best method is chosen for each test according to the statistics function:\n",
    "  - $S(X_1, X_2) $ (samples) -> moments comparison of $X_1, X_2 $ (absolute difference) + base stats comparison of $X_1, X_2$ (absolute difference), where:\n",
    "      - $X_1$ - original sample\n",
    "      - $X_2$ - sample with filled values\n",
    "  - The best method to fill in the missing values has the minimum value $S(X_1, X_2)$ (the task is equivalent to the minimization of $S(X_1, X_2)$)"
   ]
  },
  {
   "cell_type": "code",
   "execution_count": 97,
   "id": "1fed74d7",
   "metadata": {},
   "outputs": [],
   "source": [
    "def expected_value(sample,fun):\n",
    "    _sum=0\n",
    "    for x in sample:\n",
    "        _sum+=fun(x)\n",
    "    return _sum/len(sample)\n",
    "\n",
    "# moments comparison of X1,X2\n",
    "def compare_moments(data1,data2,order=3):\n",
    "    assert order<10\n",
    "    data1_moments=[expected_value(data1,lambda x: pow(x,i)) for i in range(1,order+1)]\n",
    "    data2_moments=[expected_value(data2,lambda x: pow(x,i)) for i in range(1,order+1)]\n",
    "    return sum(abs(data1_moments[i]-data2_moments[i])**(1/(i+1)) for i in range(order))\n",
    "# bast stats comparison of X1,X2\n",
    "# mean - consistent estimator, efficient, asymptotically normal\n",
    "# variance - not efficient; n/(n+1)*variance - efficient, where n = len(sample)\n",
    "# skewness - not efficient, consistent\n",
    "# kurtosis - not efficient, consistent\n",
    "def compare_base_stats(data1,data2):\n",
    "    d1=pd.Series(data1)\n",
    "    d2=pd.Series(data2)\n",
    "    stats1=d1.mean(),d1.var(),d1.skew(),d1.kurt()\n",
    "    stats2=d2.mean(),d2.var(),d2.skew(),d2.kurt()\n",
    "    return sum(abs(stats1[i]-stats2[i]) for i in range(len(stats1)))\n",
    "\n",
    "# positional statistics comparison of X1,X2\n",
    "# (positional statistics are consistent, efficient and asymptotically normal)\n",
    "def compare_positional_statistics(data1,data2):\n",
    "    if len(data1)<len(data2):\n",
    "        data1,data2=data2,data1\n",
    "    data1,data2=sorted(data1),sorted(data2)\n",
    "    inc=len(data2)/len(data1)\n",
    "    return sum(abs(data1[i]-data1[i-1]-data2[round(i*inc)]+data2[round(i*inc)-1])**0.5 for i in range(1,len(data1)))"
   ]
  },
  {
   "cell_type": "code",
   "execution_count": 98,
   "id": "4bfbc840",
   "metadata": {},
   "outputs": [],
   "source": [
    "data2col=data2[col2]\n",
    "data3col=data3[col3]"
   ]
  },
  {
   "cell_type": "code",
   "execution_count": 99,
   "id": "9889986b",
   "metadata": {},
   "outputs": [
    {
     "data": {
      "text/plain": [
       "176.83651729229248"
      ]
     },
     "execution_count": 99,
     "metadata": {},
     "output_type": "execute_result"
    }
   ],
   "source": [
    "#S(t1,t2) where:\n",
    "# t1 = array(positional stats comparison, base stats comparison, moments comparison) of samples (X1, X2)\n",
    "# X1 - original values\n",
    "# X2 - filled values\n",
    "def is_better_result(t1,t2):\n",
    "    s01,s02,s03=t1\n",
    "    s11,s12,s13=t2 \n",
    "    s1=s02+s03\n",
    "    s2=s12+s13\n",
    "    return s1>s2\n",
    "\n",
    "#analyze null values fill methods\n",
    "# (for each method display analysis results)\n",
    "def analyze_nvals_fill_methods(data,data_missing,args_lst,data_name=None):\n",
    "    global methods\n",
    "    \n",
    "    if data_name:\n",
    "        print(data_name)\n",
    "        print(\"\\n\")\n",
    "    \n",
    "    best=None\n",
    "    best_method=None\n",
    "    best_method_name=None\n",
    "        \n",
    "    for i in range(len(methods)):\n",
    "        method=methods[i]\n",
    "        title=sub_titles[i]\n",
    "        args=args_lst[i]\n",
    "        data_filled=method(data_missing,args)\n",
    "        r1=compare_positional_statistics(data_filled,data)\n",
    "        r2=compare_base_stats(data_filled,data)\n",
    "        r3=compare_moments(data_filled,data)\n",
    "        if best is None or is_better_result(best,(r1,r2,r3)):\n",
    "            best=r1,r2,r3\n",
    "            best_method=method\n",
    "            best_method_name=title\n",
    "            \n",
    "        print(title)\n",
    "        print('---')\n",
    "        print(\"positional stats result:\",r1)\n",
    "        print(\"base stats result:\",r2)\n",
    "        print(\"moments result:\",r3)\n",
    "        print('---\\n')\n",
    "    return best_method,best_method_name\n",
    "\n",
    "data2filled=interpolation(data2missing,method='polynomial',kw={\"order\":5})\n",
    "\n",
    "#Display statistics value (positional stats comparison, absolute difference)\n",
    "compare_positional_statistics(data2filled,data2col)"
   ]
  },
  {
   "cell_type": "code",
   "execution_count": 101,
   "id": "3257c9d2",
   "metadata": {},
   "outputs": [
    {
     "name": "stdout",
     "output_type": "stream",
     "text": [
      "data1\n",
      "\n",
      "\n",
      "linear interpolation\n",
      "---\n",
      "positional stats result: 29.755745697825922\n",
      "base stats result: 0.09504034181131682\n",
      "moments result: 1.3188021997730064\n",
      "---\n",
      "\n",
      "mean inputation\n",
      "---\n",
      "positional stats result: 85.32986310044886\n",
      "base stats result: 4.409378897279735\n",
      "moments result: 2.716470129246399\n",
      "---\n",
      "\n",
      "polynomial interpolation\n",
      "---\n",
      "positional stats result: 29.746483557269094\n",
      "base stats result: 0.041295837212689035\n",
      "moments result: 0.8939910098146413\n",
      "---\n",
      "\n",
      "quadratic interpolation\n",
      "---\n",
      "positional stats result: 29.746483557269094\n",
      "base stats result: 0.041295837212689035\n",
      "moments result: 0.8939910098146413\n",
      "---\n",
      "\n",
      "spline \n",
      "---\n",
      "positional stats result: 30.88603482353318\n",
      "base stats result: 0.5959901922833044\n",
      "moments result: 2.602815290877049\n",
      "---\n",
      "\n",
      "from_derivatives\n",
      "---\n",
      "positional stats result: 29.755745697825926\n",
      "base stats result: 0.09504034181131682\n",
      "moments result: 1.3188021997730064\n",
      "---\n",
      "\n",
      "krogh\n",
      "---\n",
      "positional stats result: 33.912571286403086\n",
      "base stats result: 0.2726381193429248\n",
      "moments result: 1.6226067043949608\n",
      "---\n",
      "\n",
      "akima\n",
      "---\n",
      "positional stats result: 29.752404157178326\n",
      "base stats result: 0.04613347673972745\n",
      "moments result: 1.1281910703767064\n",
      "---\n",
      "\n",
      "pad\n",
      "---\n",
      "positional stats result: 34.034367336129066\n",
      "base stats result: 0.2656529034445243\n",
      "moments result: 2.970353559463561\n",
      "---\n",
      "\n"
     ]
    },
    {
     "data": {
      "text/plain": [
       "(<function __main__.<lambda>(data, args)>, 'polynomial interpolation')"
      ]
     },
     "execution_count": 101,
     "metadata": {},
     "output_type": "execute_result"
    }
   ],
   "source": [
    "#Example 1\n",
    "args_lst=[\n",
    "    {},\n",
    "    {},\n",
    "    {\"order\":2},#interpolation polynomial maximum order\n",
    "    {},\n",
    "    {\"order\":3},#spline polynomial max order\n",
    "    {},\n",
    "    {},\n",
    "    {},\n",
    "    {}\n",
    "]\n",
    "analyze_nvals_fill_methods(data1,data1missing,args_lst,data_name='data1')"
   ]
  },
  {
   "cell_type": "code",
   "execution_count": 102,
   "id": "731b1f86",
   "metadata": {},
   "outputs": [
    {
     "name": "stdout",
     "output_type": "stream",
     "text": [
      "data2\n",
      "\n",
      "\n",
      "linear interpolation\n",
      "---\n",
      "positional stats result: 161.66571495228598\n",
      "base stats result: 226.18635417658248\n",
      "moments result: 167.52349932745904\n",
      "---\n",
      "\n",
      "mean inputation\n",
      "---\n",
      "positional stats result: 183.07135912658336\n",
      "base stats result: 759.7206517276783\n",
      "moments result: 95.57545345175814\n",
      "---\n",
      "\n",
      "polynomial interpolation\n",
      "---\n",
      "positional stats result: 176.83651729229248\n",
      "base stats result: 223.97830235376034\n",
      "moments result: 166.94584665672625\n",
      "---\n",
      "\n",
      "quadratic interpolation\n",
      "---\n",
      "positional stats result: 169.96985116847588\n",
      "base stats result: 227.33468742125953\n",
      "moments result: 167.5391975192129\n",
      "---\n",
      "\n",
      "spline \n",
      "---\n",
      "positional stats result: 177.60282508171323\n",
      "base stats result: 228.8992154604072\n",
      "moments result: 167.2755965140819\n",
      "---\n",
      "\n",
      "from_derivatives\n",
      "---\n",
      "positional stats result: 161.66571495228598\n",
      "base stats result: 226.18635417658248\n",
      "moments result: 167.52349932745904\n",
      "---\n",
      "\n",
      "krogh\n",
      "---\n",
      "positional stats result: 177.65196218190613\n",
      "base stats result: 228.95037521360942\n",
      "moments result: 166.69548497923822\n",
      "---\n",
      "\n",
      "akima\n",
      "---\n",
      "positional stats result: 162.8113208094666\n",
      "base stats result: 225.9776626857258\n",
      "moments result: 167.54843133568448\n",
      "---\n",
      "\n",
      "pad\n",
      "---\n",
      "positional stats result: 177.5270879718302\n",
      "base stats result: 173.9761977834931\n",
      "moments result: 157.26650201592014\n",
      "---\n",
      "\n"
     ]
    },
    {
     "data": {
      "text/plain": [
       "(<function __main__.<lambda>(data, args)>, 'pad')"
      ]
     },
     "execution_count": 102,
     "metadata": {},
     "output_type": "execute_result"
    }
   ],
   "source": [
    "#Example 2\n",
    "args_lst=[\n",
    "    {},\n",
    "    {},\n",
    "    {\"order\":5},#interpolation polynomial maximum order\n",
    "    {},\n",
    "    {\"order\":3},#spline polynomial maximum order\n",
    "    {},\n",
    "    {},\n",
    "    {},\n",
    "    {}\n",
    "]\n",
    "analyze_nvals_fill_methods(data2col,data2missing,args_lst,data_name='data2')"
   ]
  },
  {
   "cell_type": "code",
   "execution_count": 103,
   "id": "16ddf3b5",
   "metadata": {},
   "outputs": [
    {
     "name": "stdout",
     "output_type": "stream",
     "text": [
      "data3\n",
      "\n",
      "\n",
      "linear interpolation\n",
      "---\n",
      "positional stats result: 125.01930073101681\n",
      "base stats result: 22.184437444022453\n",
      "moments result: 12.561790330183701\n",
      "---\n",
      "\n",
      "mean inputation\n",
      "---\n",
      "positional stats result: 133.0052492238565\n",
      "base stats result: 35.42689022493227\n",
      "moments result: 22.896832545363544\n",
      "---\n",
      "\n",
      "polynomial interpolation\n",
      "---\n",
      "positional stats result: 130.9792358846684\n",
      "base stats result: 22.15449402291548\n",
      "moments result: 12.557301369758571\n",
      "---\n",
      "\n",
      "quadratic interpolation\n",
      "---\n",
      "positional stats result: 130.9792358846684\n",
      "base stats result: 22.15449402291548\n",
      "moments result: 12.557301369758571\n",
      "---\n",
      "\n",
      "spline \n",
      "---\n",
      "positional stats result: 134.4190371078158\n",
      "base stats result: 19.449494476142505\n",
      "moments result: 13.371135637873262\n",
      "---\n",
      "\n",
      "from_derivatives\n",
      "---\n",
      "positional stats result: 125.01930135598833\n",
      "base stats result: 22.184437444022468\n",
      "moments result: 12.561790330183701\n",
      "---\n",
      "\n",
      "krogh\n",
      "---\n",
      "positional stats result: 134.87681109634136\n",
      "base stats result: 22.32664898379197\n",
      "moments result: 12.751029717474017\n",
      "---\n",
      "\n",
      "akima\n",
      "---\n",
      "positional stats result: 127.90647338192011\n",
      "base stats result: 22.17018263013828\n",
      "moments result: 12.55895241415031\n",
      "---\n",
      "\n",
      "pad\n",
      "---\n",
      "positional stats result: 130.42030520202385\n",
      "base stats result: 26.246702227789577\n",
      "moments result: 10.448012305739919\n",
      "---\n",
      "\n"
     ]
    },
    {
     "data": {
      "text/plain": [
       "(<function __main__.<lambda>(data, args)>, 'spline ')"
      ]
     },
     "execution_count": 103,
     "metadata": {},
     "output_type": "execute_result"
    }
   ],
   "source": [
    "#Example 3\n",
    "args_lst=[\n",
    "    {},\n",
    "    {},\n",
    "    {\"order\":2},#interpolation polynomial maximum order\n",
    "    {},\n",
    "    {\"order\":3},#spline polynomial maximum order\n",
    "    {},\n",
    "    {},\n",
    "    {},\n",
    "    {}\n",
    "]\n",
    "analyze_nvals_fill_methods(data3col,data3missing,args_lst,data_name='data3')"
   ]
  },
  {
   "cell_type": "markdown",
   "id": "2b531e5c",
   "metadata": {},
   "source": [
    "According to the test results, it is now possible to choose the best method for each example:\n",
    "- Example1: polynomial interpolation (order = 2)\n",
    "- Example2: pad\n",
    "- Exmaple3: spline (order = 3)"
   ]
  },
  {
   "cell_type": "markdown",
   "id": "7540d03d",
   "metadata": {},
   "source": [
    "#### Missing data: Impact on base stats & distribution analysis"
   ]
  },
  {
   "cell_type": "markdown",
   "id": "7f677af7",
   "metadata": {},
   "source": [
    "##### 1. Impact on base stats"
   ]
  },
  {
   "cell_type": "code",
   "execution_count": 40,
   "id": "99a48cb2",
   "metadata": {},
   "outputs": [],
   "source": [
    "complete=pd.Series(data1)\n",
    "missing=pd.Series(data1missing_nonnull)"
   ]
  },
  {
   "cell_type": "markdown",
   "id": "eef40462",
   "metadata": {},
   "source": [
    "The below test checks whether the difference between base statistics is signifficant on a given level of signifficance\n",
    "  - signifficance_level:  0.2\n",
    "  - if statistics value is >= signifficance_level:\n",
    "     - print(\"Impact is signifficant\")\n"
   ]
  },
  {
   "cell_type": "code",
   "execution_count": 46,
   "id": "7e971354",
   "metadata": {
    "scrolled": true
   },
   "outputs": [
    {
     "name": "stdout",
     "output_type": "stream",
     "text": [
      "data1:\n",
      "Mean value: \n",
      "  complete data:  2.9328930696906617; \n",
      "  missing data:  3.1117015806038184\n",
      "! Impact is signifficant !\n",
      "\n",
      "Variance value: \n",
      "  complete data:  5.567030207031609; \n",
      "  missing data:  6.295582928490697\n",
      "! Impact is signifficant !\n",
      "\n",
      "Skewness value: \n",
      "  complete data:  1.6122968817596934; \n",
      "  missing data:  1.4516608941267357\n",
      "! Impact is signifficant !\n",
      "\n",
      "Kurtosis value: \n",
      "  complete data:  3.8567319427425213; \n",
      "  missing data:  3.6240880957799777\n",
      "! Impact is signifficant !\n",
      "\n"
     ]
    }
   ],
   "source": [
    "signifficance_level = 0.15\n",
    "\n",
    "def prettyprint(v1,v2,subject,name1,name2,s_level,fun):\n",
    "    print(\"%s \\n  %s:  %s; \\n  %s:  %s\"%(subject,name1,v1,name2,v2))\n",
    "    if abs(v1-v2)>s_level:\n",
    "        fun()\n",
    "    print()\n",
    "\n",
    "s=signifficance_level\n",
    "fun=lambda: print(\"! Impact is signifficant !\")\n",
    "print(\"data1:\")\n",
    "prettyprint(complete.mean(),missing.mean(),\"Mean value:\",\"complete data\",\"missing data\",s,fun)\n",
    "prettyprint(complete.var(),missing.var(),\"Variance value:\",\"complete data\",\"missing data\",s,fun)\n",
    "prettyprint(complete.skew(),missing.skew(),\"Skewness value:\",\"complete data\",\"missing data\",s,fun)\n",
    "prettyprint(complete.kurt(),missing.kurt(),\"Kurtosis value:\",\"complete data\",\"missing data\",s,fun)\n"
   ]
  },
  {
   "cell_type": "code",
   "execution_count": 44,
   "id": "c6e416ed",
   "metadata": {},
   "outputs": [
    {
     "name": "stdout",
     "output_type": "stream",
     "text": [
      "data2:\n",
      "Mean value: \n",
      "  complete data:  137.08; \n",
      "  missing data:  147.54497354497354\n",
      "\n",
      "Variance value: \n",
      "  complete data:  1599.9531313131313; \n",
      "  missing data:  1762.7067432173812\n",
      "! Impact is signifficant !\n",
      "\n",
      "Skewness value: \n",
      "  complete data:  0.3892134436689279; \n",
      "  missing data:  0.1280058093243048\n",
      "\n",
      "Kurtosis value: \n",
      "  complete data:  -0.5975973178258722; \n",
      "  missing data:  -1.0940020177508452\n",
      "! Impact is signifficant !\n",
      "\n"
     ]
    }
   ],
   "source": [
    "signifficance_level = [12,12,0.3,0.3]\n",
    "s=signifficance_level\n",
    "miss=interpolation(data2missing,method=\"pad\") #best method\n",
    "comp,miss=pd.Series(data2[col2]),pd.Series(miss)\n",
    "print(\"data2:\")\n",
    "prettyprint(comp.mean(),miss.mean(),\"Mean value:\",\"complete data\",\"missing data\",s[0],fun)\n",
    "prettyprint(comp.var(),miss.var(),\"Variance value:\",\"complete data\",\"missing data\",s[1],fun)\n",
    "prettyprint(comp.skew(),miss.skew(),\"Skewness value:\",\"complete data\",\"missing data\",s[2],fun)\n",
    "prettyprint(comp.kurt(),miss.kurt(),\"Kurtosis value:\",\"complete data\",\"missing data\",s[3],fun)"
   ]
  },
  {
   "cell_type": "code",
   "execution_count": 45,
   "id": "d6dfff48",
   "metadata": {},
   "outputs": [
    {
     "name": "stdout",
     "output_type": "stream",
     "text": [
      "data3:\n",
      "Mean value: \n",
      "  complete data:  49.03958333333333; \n",
      "  missing data:  48.871904922521274\n",
      "\n",
      "Variance value: \n",
      "  complete data:  73.48474459553695; \n",
      "  missing data:  92.61754445526002\n",
      "! Impact is signifficant !\n",
      "\n",
      "Skewness value: \n",
      "  complete data:  0.18276411808885903; \n",
      "  missing data:  0.07678960486758812\n",
      "\n",
      "Kurtosis value: \n",
      "  complete data:  -1.2300323456907138; \n",
      "  missing data:  -1.1869906533046035\n",
      "\n"
     ]
    }
   ],
   "source": [
    "signifficance_level = [3,5,0.5,0.5]\n",
    "s=signifficance_level\n",
    "miss=interpolation(data3missing,method=\"spline\",kw={\"order\":3}) #best method\n",
    "comp,miss=pd.Series(data3[col3]),pd.Series(miss)\n",
    "print(\"data3:\")\n",
    "prettyprint(comp.mean(),miss.mean(),\"Mean value:\",\"complete data\",\"missing data\",s[0],fun)\n",
    "prettyprint(comp.var(),miss.var(),\"Variance value:\",\"complete data\",\"missing data\",s[1],fun)\n",
    "prettyprint(comp.skew(),miss.skew(),\"Skewness value:\",\"complete data\",\"missing data\",s[2],fun)\n",
    "prettyprint(comp.kurt(),miss.kurt(),\"Kurtosis value:\",\"complete data\",\"missing data\",s[3],fun)"
   ]
  },
  {
   "cell_type": "markdown",
   "id": "5f71330b",
   "metadata": {},
   "source": [
    "##### 2. Impact on distribution analysis\n"
   ]
  },
  {
   "cell_type": "markdown",
   "id": "ca058855",
   "metadata": {},
   "source": [
    "1. Data sources used:\n",
    "  - Data source 1 (defined in the section 1)\n",
    "2. Test used:\n",
    "  - 1-sample K-S test for the chi-squared distribution (with k=3 degrees of freedom)\n",
    "  - Signifficance level: 0.05"
   ]
  },
  {
   "cell_type": "code",
   "execution_count": 107,
   "id": "04c2bfac",
   "metadata": {},
   "outputs": [
    {
     "name": "stdout",
     "output_type": "stream",
     "text": [
      "\n",
      "K-S test (complete data):\n",
      "p value: 0.5388007796665559\n",
      "Random sample distribution is likely equivalent to the chi-squared distribution (with k=3 degrees of freedom)\n",
      "\n",
      "K-S test (missing data):\n",
      "p value: 0.0\n",
      "It is unlikely that random sample distribution is equivalent to the chi-squared distribution (with k=3 degrees of freedom)\n",
      "\n",
      "K-S test (data filled using the best method):\n",
      "p value: 0.8430055437305044\n",
      "Random sample distribution is likely equivalent to the chi-squared distribution (with k=3 degrees of freedom)\n"
     ]
    }
   ],
   "source": [
    "#The Kolmogorov - Smirnov test\n",
    "from scipy.stats import kstest,ks_2samp\n",
    "Lambda = 0.03\n",
    "\n",
    "count = 100000\n",
    "test = kstest(complete,chi2.cdf, N=count, args=tuple([n]))\n",
    "_,p_value = test\n",
    "print()\n",
    "print(\"K-S test (complete data):\")\n",
    "print(\"p value:\",p_value)\n",
    "if p_value>Lambda:\n",
    "    print(\"Random sample distribution is likely equivalent to the chi-squared distribution (with k=3 degrees of freedom)\")\n",
    "else:\n",
    "    print(\"It is unlikely that random sample distribution is equivalent to the chi-squared distribution (with k=3 degrees of freedom)\")\n",
    "\n",
    "test = kstest(missing,chi2.cdf, N=count, args=tuple([n]))\n",
    "_,p_value = test\n",
    "print()\n",
    "print(\"K-S test (missing data):\")\n",
    "print(\"p value:\",p_value)\n",
    "if p_value>Lambda:\n",
    "    print(\"Random sample distribution is likely equivalent to the chi-squared distribution (with k=3 degrees of freedom)\")\n",
    "else:\n",
    "    print(\"It is unlikely that random sample distribution is equivalent to the chi-squared distribution (with k=3 degrees of freedom)\")\n",
    "    \n",
    "filled=interpolation(data1missing,method='polynomial',kw={\"order\":2})\n",
    "count = 10000\n",
    "test = kstest(filled,chi2.cdf, N=count, args=tuple([n]))\n",
    "_,p_value = test \n",
    "print()\n",
    "print(\"K-S test (data filled using the best method):\")\n",
    "print(\"p value:\",p_value)\n",
    "if p_value>Lambda:\n",
    "    print(\"Random sample distribution is likely equivalent to the chi-squared distribution (with k=3 degrees of freedom)\")\n",
    "else:\n",
    "    print(\"It is unlikely that random sample distribution is equivalent to the chi-squared distribution (with k=3 degrees of freedom)\")"
   ]
  },
  {
   "cell_type": "code",
   "execution_count": 108,
   "id": "933c87ed",
   "metadata": {},
   "outputs": [
    {
     "name": "stdout",
     "output_type": "stream",
     "text": [
      "data2\n",
      "K-S test result:\n",
      "p value: 1.2284583584145084e-173\n",
      "It is unlikely that sample distributions are equal after filling the missing data\n"
     ]
    }
   ],
   "source": [
    "#The Kolmogorov - Smirnov 2-sample test\n",
    "from scipy.stats import ks_2samp\n",
    "Lambda = 0.01\n",
    "\n",
    "missing,filled=data2[col2],interpolation(data2missing,method=\"pad\")\n",
    "\n",
    "count = 1000\n",
    "test = ks_2samp(complete,missing)\n",
    "_,p_value = test\n",
    "print(\"data2\")\n",
    "print(\"K-S test result:\")\n",
    "print(\"p value:\",p_value)\n",
    "if p_value>Lambda:\n",
    "    print(\"It is likely that sample distributions are equal after filling the missing data\")\n",
    "else:\n",
    "    print(\"It is unlikely that sample distributions are equal after filling the missing data\")\n"
   ]
  },
  {
   "cell_type": "code",
   "execution_count": 109,
   "id": "1b6c1968",
   "metadata": {},
   "outputs": [
    {
     "name": "stdout",
     "output_type": "stream",
     "text": [
      "data3\n",
      "K-S test result:\n",
      "p value: 2e-323\n",
      "It is unlikely that sample distributions are equal after filling the missing data\n"
     ]
    }
   ],
   "source": [
    "#The Kolmogorov - Smirnov 2-sample test\n",
    "from scipy.stats import ks_2samp\n",
    "Lambda = 0.01\n",
    "\n",
    "missing,filled=data3[col3],interpolation_linear(data3missing)\n",
    "\n",
    "count = 1000\n",
    "test = ks_2samp(complete,missing)\n",
    "_,p_value = test\n",
    "print(\"data3\")\n",
    "print(\"K-S test result:\")\n",
    "print(\"p value:\",p_value)\n",
    "if p_value>Lambda:\n",
    "    print(\"It is likely that sample distributions are equal after filling the missing data\")\n",
    "else:\n",
    "    print(\"It is unlikely that sample distributions are equal after filling the missing data\")\n"
   ]
  },
  {
   "cell_type": "markdown",
   "id": "e7abb602",
   "metadata": {},
   "source": [
    "=> In the Example 1, missing data has a signifficant impact on the sample distribution."
   ]
  },
  {
   "cell_type": "markdown",
   "id": "95dc696c",
   "metadata": {},
   "source": [
    "#### Conclusions:\n",
    "1. General:\n",
    "    - The difference between the methods of filling in the missing values:\n",
    "        - mean imputation: \n",
    "            - Sample mean is unchanged\n",
    "            - (potentially) signifficant impact on other base statistics (variance/...) and the distribution analysis\n",
    "        - interpolation:\n",
    "            - Can be used if the theoretical (unknown) distribution of a dataset is continuous\n",
    "        - pad:\n",
    "            - An alternative method, if only known sample values can be used\n",
    "        - spline & akima:\n",
    "            - Similar to the interpolation method, but spline polynomials (Akima splines) are used\n",
    "        - other methods:\n",
    "            - linear regression (for instance, can be used in DataFrames that contain >1 columns)\n",
    "            - machine learning models\n",
    "2. Example 1:\n",
    "    - Best method: polynomial interpolation (order = 2)\n",
    "    - Missing values result in signifficant impact on:\n",
    "        - Mean (signifficance level = 0.15)\n",
    "        - Variance (signifficance level = 0.15)\n",
    "        - Skewness (signifficance level = 0.15)\n",
    "        - Kurtosis (signifficance level = 0.15)\n",
    "    - Missing values impact the distribution analysis (K-S test)\n",
    "    - After filling in the missing values with the best method (polynomial interpolation), data distribution is partly restored (positive K-S test with the signifficance level 0.03)\n",
    "3. Example 2:\n",
    "    - Best method: pad\n",
    "    - After filling in the missing data, using the best method (linear interpolation):\n",
    "        - Mean: insignifficant impact (signifficance level = 12)\n",
    "        - Variance: signifficant impact (signifficance level = 12)\n",
    "        - Skewness: insignifficant impact (signifficance level = 0.3)\n",
    "        - Kurtosis: signifficant impact (signifficance level = 0.3)\n",
    "    - After filling in the missing values (pad), negative 2-sample K-S test result is observed (the distributions are unlikely equal)\n",
    "4. Example 3:\n",
    "    - Best method: spline (order = 3)\n",
    "    - After filling in the missing data, using the best method (spline):\n",
    "        - Mean: insignifficant impact (signifficance level = 3)\n",
    "        - Variance: signifficant impact (signifficance level = 5)\n",
    "        - Skewness: insignifficant impact (signifficance level = 0.5)\n",
    "        - Kurtosis: insignifficant impact (signifficance level = 0.5)\n",
    "    - After filling in the missing values (spline), negative 2-sample K-S test result is observed (the distributions are unlikely equal)"
   ]
  },
  {
   "cell_type": "code",
   "execution_count": null,
   "id": "2eb4ecef",
   "metadata": {},
   "outputs": [],
   "source": []
  }
 ],
 "metadata": {
  "kernelspec": {
   "display_name": "Python 3 (ipykernel)",
   "language": "python",
   "name": "python3"
  },
  "language_info": {
   "codemirror_mode": {
    "name": "ipython",
    "version": 3
   },
   "file_extension": ".py",
   "mimetype": "text/x-python",
   "name": "python",
   "nbconvert_exporter": "python",
   "pygments_lexer": "ipython3",
   "version": "3.10.7"
  }
 },
 "nbformat": 4,
 "nbformat_minor": 5
}
