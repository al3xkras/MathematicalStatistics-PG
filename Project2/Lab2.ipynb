{
 "cells": [
  {
   "cell_type": "code",
   "execution_count": 1,
   "id": "1890a7a8",
   "metadata": {},
   "outputs": [],
   "source": [
    "import numpy as np\n",
    "import matplotlib.pyplot as plt\n",
    "from scipy.stats import uniform"
   ]
  },
  {
   "cell_type": "markdown",
   "id": "fa6fc0e9",
   "metadata": {},
   "source": [
    "### Task 2.1 Documentation"
   ]
  },
  {
   "cell_type": "markdown",
   "id": "e3b06897",
   "metadata": {},
   "source": [
    "#### 1. Data Source:\n",
    "- The data source for the Task 2.1 is a generated, random uniformly distributed sample of size n\n",
    "- Responsibility for the correctness of generated data lays on the method uniform.rvs() (random values) of scipy.stats.uniform module\n",
    "- H0: In this project I assume that the module scipy.stats.uniform is implemented correctly, and, according to the documentation, generates random uniformly distributed samples\n",
    "- H0 (re-formulated): X is a uniformly distributed sample with values in range $[0,\\theta]$ (where $\\theta$ is a model parameter)"
   ]
  },
  {
   "cell_type": "markdown",
   "id": "7966eeeb",
   "metadata": {},
   "source": [
    "##### 2. Research purpose:\n",
    "\n",
    "1. Given samples: \n",
    "  - $X \\in \\text{\\{ X1, X2 , ..., X100 \\}}$\n",
    "  - Sample size:  $\\small{\\text{|X1| = 1000, |X2| = 2000, ... , |X100| = 100000}}$\n",
    "0. Given three functions (statistics) over a sample X:\n",
    "  - Min(X) = $\\space\\space X_{1:n}\\space\\space  -  $ Sample X minimum\n",
    "  - Mean(X) = $\\space\\space (X_{1:n}, X_{n:n})\\space\\space  ---||--- \\text{mean}$ \n",
    "  - Max(X) = $\\space\\space X_{n:n}\\space\\space  ---||--- \\text{maximum}$\n",
    "0. Given parameter $\\theta = 10$ (or any natural number)\n",
    "0. Null hypothesis, $\\text{H0}$: $\\space\\space X \\text{ ~ } \\textit{Unif }[0, \\theta]$\n",
    "0. Null hypothesis, $\\text{H0}$: $\\textbf{Max(X)}\\text{ is a sufficient statistics for the parameter }\\theta$\n",
    "0. Alternative hypothesis, $\\text{H1}$: $\\textbf{Mean(X)}\\text{ is a sufficient statistics for the parameter }\\theta$"
   ]
  },
  {
   "cell_type": "code",
   "execution_count": 2,
   "id": "8424934a",
   "metadata": {},
   "outputs": [],
   "source": [
    "#A helper class for printing colored text to the terminal\n",
    "\n",
    "class bcolors:\n",
    "    \"\"\"Print colored text to the terminal\"\"\"\n",
    "    HEADER = '\\033[95m'\n",
    "    OKBLUE = '\\033[94m'\n",
    "    OKCYAN = '\\033[96m'\n",
    "    OKGREEN = '\\033[92m'\n",
    "    WARNING = '\\033[93m'\n",
    "    FAIL = '\\033[91m'\n",
    "    ENDC = '\\033[0m'\n",
    "    BOLD = '\\033[1m'\n",
    "    UNDERLINE = '\\033[4m'\n",
    "    \n",
    "def success(text):\n",
    "    print(bcolors.OKGREEN + text + bcolors.ENDC)\n",
    "    \n",
    "def fail(text):\n",
    "    print(bcolors.FAIL + text + bcolors.ENDC)"
   ]
  },
  {
   "cell_type": "code",
   "execution_count": 3,
   "id": "31892967",
   "metadata": {},
   "outputs": [],
   "source": [
    "#Define theta\n",
    "theta = 10\n",
    "\n",
    "# Define sample (X) generator\n",
    "def T(theta, sample_size):\n",
    "    return uniform.rvs(0,theta,sample_size)"
   ]
  },
  {
   "cell_type": "code",
   "execution_count": 4,
   "id": "ccf57b35",
   "metadata": {},
   "outputs": [],
   "source": [
    "#Define statistics functions\n",
    "def Mean(sample):\n",
    "    return sample.mean()\n",
    "\n",
    "def Min(sample):\n",
    "    return sample.min()\n",
    "\n",
    "def Max(sample):\n",
    "    return sample.max()"
   ]
  },
  {
   "cell_type": "markdown",
   "id": "9cf0cec7",
   "metadata": {},
   "source": [
    "##### 3. Classifier & numeric variables:\n",
    "1. Classifiers:\n",
    "  - $\\text{None}$\n",
    "2. Numeric variables:\n",
    "  - $\\space\\space X \\text{ ~ } \\textit{Unif }[0, \\theta]$"
   ]
  },
  {
   "cell_type": "markdown",
   "id": "0b744006",
   "metadata": {},
   "source": [
    "##### 4. Introduction (Probability distribution analysis)\n",
    "1. The $\\small{\\textbf{Kolmogorov-Smirnov}}$ test is used to confirm / reject the Null hypothesis H0 (which assumes, that $\\space\\space X \\text{ ~ } \\textit{Unif }[0, \\theta]$)\n",
    "2. $\\text{In the example below I used a function scipy.stats.kstest that implements the}\\small{\\textbf{ Kolmogorov-Smirnov }}\\text{test.}$\n",
    "3. A brief description of the solution:\n",
    "  - method: scipy.stats.kstest(rvs, cdf, args=(), N=20, alternative='two-sided', method='auto')\n",
    "  - reference: https://docs.scipy.org/doc/scipy/reference/generated/scipy.stats.kstest.html\n",
    "  - Performs the (one-sample or two-sample) Kolmogorov-Smirnov test for goodness of fit. The one-sample test compares the underlying distribution F(x) of a sample against a given distribution G(x) $\\textbf{(this option is used)}$. The two-sample test compares the underlying distributions of two independent samples. Both tests are valid only for continuous distributions.\n",
    "  - parameters:\n",
    "    - rvs - random values $\\equiv X$\n",
    "    - cdf - expected cumulative distribution function $\\equiv \\text{Unif}(0,\\theta)$\n",
    "    - N - sample size $\\equiv \\text{size of } X$\n",
    "    - If the sample comes from distribution $F(x) \\equiv cdf$, then $D_n$ converges to 0 almost surely in the limit when ${\\displaystyle n}$ goes to infinity.\n",
    "    - H0: ${\\sqrt {n}}D_{n} \\space\\space$ converges to the Kolmogorov distribution, which does not depend on $F(x)$\n",
    "  - $D_{n}=\\sup _{x}|F_{n}(x)-F(x)|$"
   ]
  },
  {
   "cell_type": "code",
   "execution_count": 43,
   "id": "d24d5f4f",
   "metadata": {},
   "outputs": [
    {
     "name": "stdout",
     "output_type": "stream",
     "text": [
      "sample size = 100000\n",
      "\n",
      "KstestResult(statistic=0.0024658160031407195, pvalue=0.576524495593717)\n",
      "\n",
      "H0 for the Kolmogorov-Smirnov test is correct, lambda = 0.050 (95% percentile)\n",
      "\n",
      "The sample X distribution is likely to be equivalent to Unif[0,theta]\n"
     ]
    }
   ],
   "source": [
    "from scipy.stats import kstest\n",
    "Lambda = 0.05\n",
    "\n",
    "n = 100000\n",
    "test = kstest(T(theta,n),uniform.cdf, N=n, args=(0,theta))\n",
    "s, p_value = test\n",
    "print(\"sample size = %d\"%n)\n",
    "print()\n",
    "print(test)\n",
    "if (p_value>Lambda):\n",
    "    print()\n",
    "    print(\"H0 for the Kolmogorov-Smirnov test is correct, lambda = %.3f (%d%% percentile)\"%(Lambda,100-100*Lambda))\n",
    "    print()\n",
    "    print(\"The sample X distribution is likely to be equivalent to Unif[0,theta]\")\n",
    "else:\n",
    "    print(\"H0 for the Kolmogorov-Smirnov test is not correct, lambda = %.3f\"%Lambda)\n",
    "    print(\"X distribution is unlikely to be equivalent to Unif[0,theta]\")"
   ]
  },
  {
   "cell_type": "markdown",
   "id": "4ecdb038",
   "metadata": {},
   "source": [
    "4. The $\\small{\\textbf{Kolmogorov-Smirnov}}$ test is positive (95 percentile) =>\n",
    "  - H0 is correct =>\n",
    "  - X is a random sample with the distribution $ \\equiv \\text{Unif}(0,\\theta)$\n"
   ]
  },
  {
   "cell_type": "markdown",
   "id": "f36ae155",
   "metadata": {},
   "source": [
    "5. Additionally, it is necessary to check, that the sample generated by T is simple.<br>\n",
    "\n",
    "- Therefore we define a function <b>isSimpleRandomSample(T, theta, expected_range, eps = $10^{-5}$)</b> - check if a uniformly distributed random\n",
    "    variable T is a simple random sample given the expected range [a,b].</pre>\n",
    "    1. Calculate the expected mean and standard deviation of the Uniform[a,b] distribution\n",
    "    2. Iterate for each sample size =n min: $10$, max: $10^7$\n",
    "    3. For each sample size (=n):\n",
    "      - Generate a random sample of size n\n",
    "      - Calculate [a_iter,b_iter] == [min(sample),max(sample)]\n",
    "      - Compute p == P(x$\\lt$a_iter or x$\\gt$b_iter)\n",
    "      - Calculate the sample mean and standard deviation\n",
    "      - In order to prove that T(n) is a simple random sample, we need to check that the random variable T(n) is not limited for the population [0,theta]\n",
    "      - Therefore, it is necessary and sufficient to check that lim(p)=0, n->inf for a given eps.\n",
    "      - => If abs(p) < eps: T generates a simple random sample.\n",
    "          - return True\n",
    "    0. Else:\n",
    "      - return False\n",
    "</ol>"
   ]
  },
  {
   "cell_type": "code",
   "execution_count": 57,
   "id": "dde8203e",
   "metadata": {},
   "outputs": [
    {
     "name": "stdout",
     "output_type": "stream",
     "text": [
      "expected range: [0, 10]\n",
      "expected mean: 5.0\n",
      "expected standard deviation: 2.8867513459481287\n",
      "\n",
      "for sample size = 10:\n",
      "p_value == P(x<a_iter or x>b_iter) = 0.10368617\n",
      "sample mean = E(X): 5.643999061499329\n",
      "sample standard deviation = sqrt(Var(X)): 2.871822291800391\n",
      "actual range:  [0.9269957357854164, 9.890134010618748]\n",
      "\n",
      "for sample size = 100:\n",
      "p_value == P(x<a_iter or x>b_iter) = 0.00762663\n",
      "sample mean = E(X): 4.67245060952827\n",
      "sample standard deviation = sqrt(Var(X)): 3.058244597728054\n",
      "actual range:  [0.028974161437055335, 9.952707822710888]\n",
      "\n",
      "for sample size = 1000:\n",
      "p_value == P(x<a_iter or x>b_iter) = 0.00154257\n",
      "sample mean = E(X): 4.990070772551295\n",
      "sample standard deviation = sqrt(Var(X)): 2.9470834430016635\n",
      "actual range:  [0.009418768815103729, 9.993993082600863]\n",
      "\n",
      "for sample size = 10000:\n",
      "p_value == P(x<a_iter or x>b_iter) = 0.00020790\n",
      "sample mean = E(X): 5.0136269329335414\n",
      "sample standard deviation = sqrt(Var(X)): 2.9008435888900697\n",
      "actual range:  [0.001960486448134846, 9.999881494744043]\n",
      "\n",
      "for sample size = 100000:\n",
      "p_value == P(x<a_iter or x>b_iter) = 0.00000881\n",
      "sample mean = E(X): 4.99221187269252\n",
      "sample standard deviation = sqrt(Var(X)): 2.8887436061886724\n",
      "actual range:  [2.3191380660314564e-05, 9.999935093523947]\n",
      "\n",
      "Random sample is simple, eps=1.000000e-05\n",
      "\u001b[92m\n",
      "T(n) generates a simple random sample for the expected population=[0, 10], eps=1.000000e-05\u001b[0m\n"
     ]
    }
   ],
   "source": [
    "from math import sqrt\n",
    "\n",
    "def isSimpleRandomSample(T, theta, expected_range, eps):\n",
    "    a_iter=None\n",
    "    b_iter=None\n",
    "    diff = abs(expected_range[0]-expected_range[1])\n",
    "    sample_sizes = [int(x) for x in [10,1e2,1e3,1e4,1e5,1e6, 1e7]]\n",
    "    print(\"expected range:\",expected_range)\n",
    "    expected_mean = (expected_range[1]-expected_range[0])/2\n",
    "    expected_std = sqrt(1/12 * (expected_range[1]-expected_range[0])**2)\n",
    "    print(\"expected mean:\",expected_mean)\n",
    "    print(\"expected standard deviation:\",expected_std)\n",
    "    print()\n",
    "    for size in sample_sizes:\n",
    "        samp = T(theta, size)\n",
    "        a_iter = samp.min()\n",
    "        b_iter = samp.max()\n",
    "        \n",
    "        p = abs(a_iter-expected_range[0])/diff + abs(b_iter-expected_range[1])/diff\n",
    "        print(\"for sample size = %d:\"%size)\n",
    "        print(\"p_value == P(x<a_iter or x>b_iter) = %.8f\"%p)\n",
    "        print(\"sample mean = E(X):\",samp.mean())\n",
    "        print(\"sample standard deviation = sqrt(Var(X)):\",samp.std())\n",
    "        print(\"actual range: \",[a_iter,b_iter])\n",
    "        print()\n",
    "        \n",
    "        if p < eps:\n",
    "            print(\"Random sample is simple, eps=%e\"%eps)\n",
    "            return True\n",
    "    return False\n",
    "    \n",
    "eps=1e-5\n",
    "population=[0,theta]\n",
    "\n",
    "if isSimpleRandomSample(T,theta,population, eps=eps):\n",
    "    success(\"\\nT(n) generates a simple random sample for the expected population=%s, eps=%e\"%(population,eps))\n",
    "else:\n",
    "    fail(\"\\nT(n) does not generate a simple random sample for the expected population=%s, eps=%e\"%(population,eps))"
   ]
  },
  {
   "cell_type": "markdown",
   "id": "57d5c7b3",
   "metadata": {},
   "source": [
    "##### 5. Model definition:\n",
    "Model: $(X,\\{P_{\\theta}, \\theta \\in \\Theta\\})$:\n",
    "- X = $[ 0,\\space \\theta]$\n",
    "- $\\theta = 10$; $\\Theta = \\mathbb{R}$\n",
    "- $P_{\\theta} \\textit{ ~ Unif}\\space(0, \\theta)$\n",
    "\n",
    "Null hypothesis, $\\text{H0}$: $\\textbf{Max(X)}\\text{ is a sufficient statistics for the parameter }\\theta$<br><br>\n",
    "Alternative hypothesis, $\\text{H1}$: $\\textbf{Mean(X)}\\text{ or }\\textbf{Min(X)}\\text{ is a sufficient statistics for the parameter }\\theta$<br><br>"
   ]
  },
  {
   "cell_type": "markdown",
   "id": "1b40fc86",
   "metadata": {},
   "source": [
    "##### 6. Analysis:\n",
    "1. First we define a function for computing the mean squared error of $|\\theta - S(X)|$\n",
    "  - Where $S(X)$ is a statistics function\n",
    "  - The squared error is computer for every sample $X \\in \\text{\\{ X1, X2 , ..., X100 \\}}$: $E_i = |\\theta - T(X_i)|$\n",
    "  - => The mean squared error is equal to $\\space\\frac{1}{n}(E_1 + E_2 + ... + E_{100}) = \\text{MSE}$"
   ]
  },
  {
   "cell_type": "markdown",
   "id": "0e8aa2ba",
   "metadata": {},
   "source": [
    "Brief description of the function $\\textbf{error(theta, stat, T)}$:\n",
    "1. Arg: $\\theta$ - estimated parameter\n",
    "0. Arg: $T == T(\\theta,n)$ - random sample generator\n",
    "0. Arg: $\\text{stat}$ - a reference to the statistics function over a sample T(theta, sample_size)\n",
    "0. for each sample size in range(1000,100000,1000):\n",
    "  - Approximate $\\theta$ based on the random sample $\\text{stat}$(T(theta,sample_size))\n",
    "  - Compute the squared error between theta and theta approximation\n",
    "   - Compute the mean squared error $\\text{MSE}$\n",
    "0. Print results & draw the error plot"
   ]
  },
  {
   "cell_type": "code",
   "execution_count": 67,
   "id": "a7c37978",
   "metadata": {},
   "outputs": [],
   "source": [
    "def error(theta,stat, T):\n",
    "    print(\"Theta =\",theta)\n",
    "    print(\"Theta estimator:\",stat)\n",
    "    mse = 0\n",
    "    error_arr=[]\n",
    "    sample_sizes=range(1000,101000,1000)\n",
    "    for sample_size in sample_sizes:\n",
    "        theta_appr = stat(T(theta,sample_size))\n",
    "        sqe=(theta-theta_appr)**2\n",
    "        mse+=sqe\n",
    "        error_arr.append(sqe)\n",
    "    mse/=len(sample_sizes)\n",
    "    print(\"MSE:\",mse)\n",
    "    plt.plot(sample_sizes,error_arr, color=\"b\", label=\"squared error\")\n",
    "    plt.axhline(mse,color=\"r\", label=\"mean squared error\")\n",
    "    return mse"
   ]
  },
  {
   "cell_type": "markdown",
   "id": "2a8c7699",
   "metadata": {},
   "source": [
    "##### Empirical PDF Preview\n",
    "- A method $\\small{\\textbf{plt.hist()}} $ is used for plotting the empirical PDF \n",
    "- $\\small{\\textbf{density=True}} $ indicates that the histogram represents a probability density function"
   ]
  },
  {
   "cell_type": "code",
   "execution_count": 68,
   "id": "79c9a5fd",
   "metadata": {},
   "outputs": [
    {
     "data": {
      "image/png": "[encoded data removed]",
      "text/plain": [
       "<Figure size 300x200 with 1 Axes>"
      ]
     },
     "metadata": {},
     "output_type": "display_data"
    }
   ],
   "source": [
    "plt.hist(T(theta,10000),bins=50,density=True)\n",
    "plt.title(\"Empirical PDF function of sample X\")\n",
    "plt.gcf().set_size_inches(3,2)\n",
    "plt.show()"
   ]
  },
  {
   "cell_type": "markdown",
   "id": "c1074c02",
   "metadata": {},
   "source": [
    "##### Theta estimation\n",
    "- In the example below we use the $\\textbf{ error() }$ function defined earlier to estimate the parameter $\\theta $:"
   ]
  },
  {
   "cell_type": "code",
   "execution_count": 71,
   "id": "2b71038f",
   "metadata": {},
   "outputs": [
    {
     "name": "stdout",
     "output_type": "stream",
     "text": [
      "Theta = 10\n",
      "Theta estimator: <function Max at 0x000001F5E2675510>\n",
      "MSE: 5.81649238563254e-06\n"
     ]
    },
    {
     "data": {
      "image/png": "[encoded data removed]",
      "text/plain": [
       "<Figure size 400x250 with 1 Axes>"
      ]
     },
     "metadata": {},
     "output_type": "display_data"
    },
    {
     "name": "stdout",
     "output_type": "stream",
     "text": [
      "\u001b[92mThe estimator <function Max at 0x000001F5E2675510> is sufficient.\u001b[0m\n"
     ]
    }
   ],
   "source": [
    "plt.gcf().set_size_inches(4,2.5)\n",
    "plt.xlabel(\"sample size\")\n",
    "plt.ylabel(\"squared error\")\n",
    "mse = error(theta,Max, T)\n",
    "plt.legend(loc=1)\n",
    "plt.title(\"Theta estimation (the estimator is sufficient), error plot\")\n",
    "plt.show()\n",
    "if (mse<Lambda):\n",
    "    success(\"The estimator %s is sufficient.\"%Max)\n",
    "else:\n",
    "    fail(\"The estimator %s is not sufficient.\"%Max)"
   ]
  },
  {
   "cell_type": "markdown",
   "id": "e4cf9d5c",
   "metadata": {},
   "source": [
    "- $\\text{Now let's estimate } \\theta \\text{ using a different statistics function }- \\small{\\textbf{Mean(X)}}$"
   ]
  },
  {
   "cell_type": "code",
   "execution_count": 72,
   "id": "89aa9aa1",
   "metadata": {},
   "outputs": [
    {
     "name": "stdout",
     "output_type": "stream",
     "text": [
      "Theta = 10\n",
      "Theta estimator: <function Mean at 0x000001F5E1EF15A0>\n",
      "MSE: 25.000415469126352\n"
     ]
    },
    {
     "data": {
      "image/png": "[encoded data removed]",
      "text/plain": [
       "<Figure size 400x250 with 1 Axes>"
      ]
     },
     "metadata": {},
     "output_type": "display_data"
    },
    {
     "name": "stdout",
     "output_type": "stream",
     "text": [
      "\u001b[91mThe estimator <function Mean at 0x000001F5E1EF15A0> is not sufficient.\u001b[0m\n"
     ]
    }
   ],
   "source": [
    "plt.gcf().set_size_inches(4,2.5)\n",
    "plt.xlabel(\"sample size\")\n",
    "plt.ylabel(\"squared error\")\n",
    "mse = error(theta,Mean, T)\n",
    "plt.legend(loc=4)\n",
    "plt.title(\"Theta estimation (estimator is not sufficient), error plot\")\n",
    "plt.show()\n",
    "if (mse<Lambda):\n",
    "    success(\"The estimator %s is sufficient.\"%Mean)\n",
    "else:\n",
    "    fail(\"The estimator %s is not sufficient.\"%Mean)"
   ]
  },
  {
   "cell_type": "markdown",
   "id": "7ee0a724",
   "metadata": {},
   "source": [
    "##### 7. Conclusions\n",
    "1. The Null hypothesis is true:\n",
    "  - $\\text{H0}$: $\\space X \\text{ ~ } \\textit{Unif }[0, \\theta]$\n",
    "  - $\\text{H0}$: $\\space\\textbf{Max(X)}\\equiv X_{n:n}\\text{ is a sufficient statistics for the parameter }\\theta$\n",
    "2. The $\\small{\\textbf{Kolmogorov-Smirnov}}$ test confirmed, that the distribution of sample X is equivalent to $\\textit{Unif }[0, \\theta]$ with p-value=0.05 <=> 95 percentile\n",
    "3. $\\textbf{Max(X)}$ $\\equiv X_{n:n}$ => $X_{n:n}$ is a sufficient statistics function for the parameter $\\theta$\n",
    "4. Random sample generator $T(\\theta, n)$ generates simple random samples for the distribution $\\textit{Unif }[0, \\theta]$\n",
    "5. Statistical Model:\n",
    "  - $(X,\\{P_{\\theta}, \\theta \\in \\Theta\\})$\n",
    "    - X = $[ 0,\\space \\theta]$\n",
    "    - $\\theta = 10$; $\\Theta = \\mathbb{R}$\n",
    "    - $P_{\\theta} \\textit{ ~ Unif}\\space(0, \\theta)$\n",
    "    \n",
    "<br><br><br><br>"
   ]
  },
  {
   "cell_type": "code",
   "execution_count": null,
   "id": "5720c7b6",
   "metadata": {},
   "outputs": [],
   "source": []
  }
 ],
 "metadata": {
  "kernelspec": {
   "display_name": "Python 3 (ipykernel)",
   "language": "python",
   "name": "python3"
  },
  "language_info": {
   "codemirror_mode": {
    "name": "ipython",
    "version": 3
   },
   "file_extension": ".py",
   "mimetype": "text/x-python",
   "name": "python",
   "nbconvert_exporter": "python",
   "pygments_lexer": "ipython3",
   "version": "3.10.7"
  }
 },
 "nbformat": 4,
 "nbformat_minor": 5
}
